{
 "cells": [
  {
   "cell_type": "markdown",
   "id": "63f6a400-0975-4569-a2ac-70a43eb293e7",
   "metadata": {},
   "source": [
    "## Long Context Testing\n",
    "- Testing out whether StrictJSON still works with long context"
   ]
  },
  {
   "cell_type": "code",
   "execution_count": 1,
   "id": "2c665ff4-3ca3-4111-b507-070f99ba1ca0",
   "metadata": {},
   "outputs": [],
   "source": [
    "#Python way to set up OpenAI API Keys\n",
    "import os\n",
    "os.environ['OPENAI_API_KEY'] = '<YOUR API KEY HERE>'"
   ]
  },
  {
   "cell_type": "code",
   "execution_count": 2,
   "id": "c9a06bb0-b1a4-4540-9bc2-902ba723b637",
   "metadata": {
    "tags": []
   },
   "outputs": [
    {
     "data": {
      "text/plain": [
       "{'output': 'AI researchers and companies are developing increasingly agentic AI systems that can adaptably pursue complex goals using reasoning and limited direct supervision. Agentic AI systems are capable of a wide range of actions and can autonomously act on complex goals on behalf of users. These systems have the potential to dramatically increase usersâ\\x80\\x99 abilities to get more done in their lives with less effort, by completing tasks beyond their skill sets or offloading tasks they already know how to do. However, the trend towards agency also introduces new technical and social challenges.'}"
      ]
     },
     "execution_count": 2,
     "metadata": {},
     "output_type": "execute_result"
    }
   ],
   "source": [
    "from strictjson import *\n",
    "\n",
    "text = '''AI researchers and companies have recently begun to develop increasingly agentic AI systems:\n",
    "systems that adaptably pursue complex goals using reasoning and with limited direct supervision.1\n",
    "For example, a user could ask an agentic personal assistant to “help me bake a good chocolate cake\n",
    "tonight,” and the system would respond by figuring out the ingredients needed, finding vendors\n",
    "to buy ingredients, and having the ingredients delivered to their doorstep along with a printed\n",
    "recipe. Agentic AI systems are distinct from more limited AI systems (like image generation or\n",
    "question-answering language models) because they are capable of a wide range of actions and\n",
    "are reliable enough that, in certain defined circumstances, a reasonable user could trust them to\n",
    "effectively and autonomously act on complex goals on their behalf. This trend towards agency may\n",
    "both substantially expand the helpful uses of AI systems, and introduce a range of new technical\n",
    "and social challenges.\n",
    "Agentic AI systems could dramatically increase users’ abilities to get more done in their lives\n",
    "with less effort. This could involve completing tasks beyond the users’ skill sets, like specialized\n",
    "coding. Agentic systems could also benefit users by enabling them to partially or fully offload tasks\n",
    "that they already know how to do, meaning the tasks can get done more cheaply, quickly, and at\n",
    "greater scale. So long as these benefits exceed the cost of setting up and safely operating an agentic\n",
    "system, agentic systems can be a substantial boon for individuals and society [1]. In this paper, we\n",
    "will primarily focus on agentic systems with language models at their core (including multimodal\n",
    "models), as these have driven recent progress.'''*11\n",
    "fn = strict_function(fn_description='Summarize var1 and output key points', \n",
    "                     output_format={\"output\": \"list of points\"})\n",
    "fn(text)"
   ]
  },
  {
   "cell_type": "code",
   "execution_count": 3,
   "id": "298b69dc-81e5-4c7f-8bd7-d6e91f09ead8",
   "metadata": {
    "tags": []
   },
   "outputs": [
    {
     "data": {
      "text/plain": [
       "{'summary of var1': \"['AI researchers and companies are developing agentic AI systems that can adaptably pursue complex goals using reasoning and limited supervision.', 'Agentic AI systems are capable of a wide range of actions and can be trusted to act autonomously on complex goals.', 'These systems can increase users' abilities to get more done with less effort and offload tasks they already know how to do.', 'Agentic systems have the potential to be a substantial boon for individuals and society.']\",\n",
       " 'summary of var2': ['The agentic AI life-cycle involves three primary parties: the model developer, the system deployer, and the user.',\n",
       "  'The model developer sets the capabilities and behaviors of the agentic system.',\n",
       "  'The system deployer builds and operates the larger system and tailors it to specific use cases.',\n",
       "  'The user employs the agentic AI system and provides it with instance-specific goals.']}"
      ]
     },
     "execution_count": 3,
     "metadata": {},
     "output_type": "execute_result"
    }
   ],
   "source": [
    "fn = strict_function(\n",
    "    fn_description='''Summarise var1 and var2 and output key points''',\n",
    "    output_format={\"summary of var1\": \"list of points\", \n",
    "                                   \"summary of var2\": \"list of points\"})\n",
    "fn('''AI researchers and companies have recently begun to develop increasingly agentic AI systems:\n",
    "systems that adaptably pursue complex goals using reasoning and with limited direct supervision.1\n",
    "For example, a user could ask an agentic personal assistant to “help me bake a good chocolate cake\n",
    "tonight,” and the system would respond by figuring out the ingredients needed, finding vendors\n",
    "to buy ingredients, and having the ingredients delivered to their doorstep along with a printed\n",
    "recipe. Agentic AI systems are distinct from more limited AI systems (like image generation or\n",
    "question-answering language models) because they are capable of a wide range of actions and\n",
    "are reliable enough that, in certain defined circumstances, a reasonable user could trust them to\n",
    "effectively and autonomously act on complex goals on their behalf. This trend towards agency may\n",
    "both substantially expand the helpful uses of AI systems, and introduce a range of new technical\n",
    "and social challenges.\n",
    "Agentic AI systems could dramatically increase users’ abilities to get more done in their lives\n",
    "with less effort. This could involve completing tasks beyond the users’ skill sets, like specialized\n",
    "coding. Agentic systems could also benefit users by enabling them to partially or fully offload tasks\n",
    "that they already know how to do, meaning the tasks can get done more cheaply, quickly, and at\n",
    "greater scale. So long as these benefits exceed the cost of setting up and safely operating an agentic\n",
    "system, agentic systems can be a substantial boon for individuals and society [1]. In this paper, we\n",
    "will primarily focus on agentic systems with language models at their core (including multimodal\n",
    "models), as these have driven recent progress.''', \n",
    "   \n",
    "   '''We provide a simplified overview of the agentic AI life-cycle, though there are many different\n",
    "configurations of these roles in the AI industry[13] and we hope further taxonomies emerge. In our\n",
    "taxonomy,11 the three primary parties that may influence an AI agent’s operations are the model\n",
    "developer, the system deployer, and the user. The model developer is the party that develops\n",
    "the AI model that powers the agentic system, and thus broadly sets the capabilities and behaviors\n",
    "according to which the larger system operates. The system deployer is the party that builds and\n",
    "operates the larger system built on top of a model, including by making calls to the developed model\n",
    "(such as by providing a “system prompt”[14]), routing those calls to tools with which the agent can\n",
    "take actions, and providing users an interface through which they interact with the agent. The\n",
    "system deployer may also tailor the AI system to a specific use case, and thus may frequently have\n",
    "more domain-specific knowledge than the model developer or even the user. Finally, the agent’s user\n",
    "is the party that employs the specific instance of the agentic AI system, by initiating it and providing\n",
    "it with the instance-specific goals it should pursue. The user may be able to most directly oversee\n",
    "certain behaviors of the agentic system through its operation, during which it can also interact with\n",
    "third parties (e.g. other humans, or the providers of APIs with which the agent can interact).''')"
   ]
  },
  {
   "cell_type": "code",
   "execution_count": null,
   "id": "db03ceed-1bed-4612-9661-8f52777b3449",
   "metadata": {},
   "outputs": [],
   "source": []
  }
 ],
 "metadata": {
  "kernelspec": {
   "display_name": "Python 3 (ipykernel)",
   "language": "python",
   "name": "python3"
  },
  "language_info": {
   "codemirror_mode": {
    "name": "ipython",
    "version": 3
   },
   "file_extension": ".py",
   "mimetype": "text/x-python",
   "name": "python",
   "nbconvert_exporter": "python",
   "pygments_lexer": "ipython3",
   "version": "3.11.3"
  }
 },
 "nbformat": 4,
 "nbformat_minor": 5
}
