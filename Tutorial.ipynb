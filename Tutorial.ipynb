{
 "cells": [
  {
   "cell_type": "markdown",
   "id": "ec216685-5ec3-497c-9ef8-e1758ca30423",
   "metadata": {},
   "source": [
    "# Strict JSON Usage Tutorial\n",
    "A Strict JSON Framework for LLM Outputs, that fixes problems that json.loads() cannot solve\n",
    "- Works for JSON outputs with multiple ' or \" or { or } or \\ or unmatched braces/brackets that may break a json.loads()\n",
    "- Updated: 8 Jan 2024\n",
    "- Repo: https://github.com/tanchongmin/strictjson\n",
    "- Collaborators welcome\n",
    "\n",
    "## How do I use this? \n",
    "1. Download package via command line ```pip install strictjson```\n",
    "2. Set up your OpenAPI API Key. Refer to ```Tutorial.ipynb``` for how to do it for Jupyter Notebooks.\n",
    "3. Import the required functions from ```strictjson``` and use them!\n",
    "\n",
    "## How does it work?\n",
    "- Extract JSON values as a string using a special regex (add delimiters to ```key``` to make ```###key###```) to split keys and values\n",
    "- By default, uses ```ast.literal_eval``` to best match the string to a literal (e.g. int, string, dict). Set ```literal_eval = False``` when calling ```strict_json``` to preserve output fields as string\n",
    "- Ensures that all JSON fields are output by LLM, if not it will feed in error message to LLM to iteratively correct its generation (default: 3 tries)"
   ]
  },
  {
   "cell_type": "markdown",
   "id": "6692060b-12c7-4224-8faf-c104892648e3",
   "metadata": {},
   "source": [
    "# Setup Guide"
   ]
  },
  {
   "cell_type": "markdown",
   "id": "c90f7d98-ebf0-45ad-ae8c-86f01fc641de",
   "metadata": {},
   "source": [
    "## Step 1: Install StrictJSON"
   ]
  },
  {
   "cell_type": "code",
   "execution_count": 1,
   "id": "9cf134f7-108e-48f3-b2e7-88c3b518ae75",
   "metadata": {
    "tags": []
   },
   "outputs": [],
   "source": [
    "# !pip install strictjson"
   ]
  },
  {
   "cell_type": "markdown",
   "id": "3bfc79be-6723-4dba-a555-4782cdb651b1",
   "metadata": {},
   "source": [
    "## Step 2: Set up OpenAI API Key"
   ]
  },
  {
   "cell_type": "code",
   "execution_count": 2,
   "id": "be2280c7-1d2c-4639-b4be-032313ec1b35",
   "metadata": {
    "tags": []
   },
   "outputs": [],
   "source": [
    "#Python way to set up OpenAI API Keys\n",
    "import os\n",
    "os.environ['OPENAI_API_KEY'] = '<YOUR API KEY HERE>'"
   ]
  },
  {
   "cell_type": "markdown",
   "id": "d2145d5c-a309-4fdc-be45-42144d7a5e4c",
   "metadata": {},
   "source": [
    "## Step 3: Import required functions"
   ]
  },
  {
   "cell_type": "code",
   "execution_count": 3,
   "id": "5ef256af-e9d4-4f59-af18-0570b0b49bff",
   "metadata": {
    "tags": []
   },
   "outputs": [],
   "source": [
    "from strictjson import *"
   ]
  },
  {
   "cell_type": "markdown",
   "id": "89870084-63d6-4227-bae7-30578a3f005f",
   "metadata": {
    "tags": []
   },
   "source": [
    "# 1. Basic Generation\n",
    "\n",
    "- **system_prompt**: Write in whatever you want GPT to become. \"You are a \\<purpose in life\\>\"\n",
    "- **user_prompt**: The user input. Later, when we use it as a function, this is the function input\n",
    "- **output_format**: JSON of output variables in a dictionary, with the key as the output key, and the value as the output description\n",
    "    - The output keys will be preserved exactly, while GPT will generate content to match the description of the value as best as possible\n",
    "\n",
    "#### Example Usage\n",
    "```python\n",
    "res = strict_json(system_prompt = 'You are a classifier',\n",
    "                    user_prompt = 'It is a beautiful and sunny day',\n",
    "                    output_format = {'Sentiment': 'Type of Sentiment',\n",
    "                                    'Adjectives': 'List of adjectives',\n",
    "                                    'Words': 'Number of words'})\n",
    "                                    \n",
    "print(res)\n",
    "```\n",
    "\n",
    "#### Example output\n",
    "```{'Sentiment': 'Positive', 'Adjectives': ['beautiful', 'sunny'], 'Words': 7}```"
   ]
  },
  {
   "cell_type": "code",
   "execution_count": 4,
   "id": "c9099840-700d-403a-bc3c-28843d0295c9",
   "metadata": {
    "tags": []
   },
   "outputs": [
    {
     "name": "stdout",
     "output_type": "stream",
     "text": [
      "{'Sentiment': 'Positive', 'Adjectives': ['beautiful', 'sunny'], 'Words': 7}\n"
     ]
    }
   ],
   "source": [
    "res = strict_json(system_prompt = 'You are a classifier',\n",
    "                    user_prompt = 'It is a beautiful and sunny day',\n",
    "                    output_format = {'Sentiment': 'Type of Sentiment',\n",
    "                                    'Adjectives': 'List of adjectives',\n",
    "                                    'Words': 'Number of words'})\n",
    "print(res)"
   ]
  },
  {
   "cell_type": "markdown",
   "id": "f7e2f8c2-8bcd-40ce-84c8-3e2e18f644d0",
   "metadata": {
    "tags": []
   },
   "source": [
    "## Easy to split into corresponding elements"
   ]
  },
  {
   "cell_type": "code",
   "execution_count": 5,
   "id": "ea2ee9a7-9583-4081-b66e-aa8f790a37b0",
   "metadata": {
    "tags": []
   },
   "outputs": [
    {
     "data": {
      "text/plain": [
       "'Positive'"
      ]
     },
     "execution_count": 5,
     "metadata": {},
     "output_type": "execute_result"
    }
   ],
   "source": [
    "res['Sentiment']"
   ]
  },
  {
   "cell_type": "code",
   "execution_count": 6,
   "id": "89da94ce-724a-4da4-89b0-bb575728a398",
   "metadata": {
    "tags": []
   },
   "outputs": [
    {
     "data": {
      "text/plain": [
       "['beautiful', 'sunny']"
      ]
     },
     "execution_count": 6,
     "metadata": {},
     "output_type": "execute_result"
    }
   ],
   "source": [
    "res['Adjectives']"
   ]
  },
  {
   "cell_type": "code",
   "execution_count": 7,
   "id": "a726d205-b7d8-4e5e-9326-b3ee3a2fe921",
   "metadata": {
    "tags": []
   },
   "outputs": [
    {
     "data": {
      "text/plain": [
       "7"
      ]
     },
     "execution_count": 7,
     "metadata": {},
     "output_type": "execute_result"
    }
   ],
   "source": [
    "res['Words']"
   ]
  },
  {
   "cell_type": "markdown",
   "id": "64a724c9-df20-4a57-9379-09c2820c4019",
   "metadata": {},
   "source": [
    "# 2. Advanced Generation\n",
    "- More advanced demonstration involving code that would typically break ```json.loads()```\n",
    "\n",
    "#### Example Usage\n",
    "```python\n",
    "res = strict_json(system_prompt = 'You are a code generator, generating code to fulfil a task',\n",
    "                    user_prompt = 'Given array p, output a function named func_sum to return its sum',\n",
    "                    output_format = {'Elaboration': 'How you would do it',\n",
    "                                     'C': 'Code',\n",
    "                                    'Python': 'Code'})\n",
    "                                    \n",
    "print(res)\n",
    "```\n",
    "\n",
    "#### Example output\n",
    "```{'Elaboration': 'To calculate the sum of an array, we can iterate through each element of the array and add it to a running total.', ```\n",
    "\n",
    "```'C': 'int func_sum(int p[], int size) {\\n    int sum = 0;\\n    for (int i = 0; i < size; i++) {\\n        sum += p[i];\\n    }\\n    return sum;\\n}', ```\n",
    "\n",
    "```'Python': 'def func_sum(p):\\n    sum = 0\\n    for num in p:\\n        sum += num\\n    return sum'}```\n"
   ]
  },
  {
   "cell_type": "code",
   "execution_count": 8,
   "id": "d81d20de-e40f-441e-b438-9dd09e89bcc9",
   "metadata": {
    "tags": []
   },
   "outputs": [
    {
     "name": "stdout",
     "output_type": "stream",
     "text": [
      "{'Elaboration': 'To calculate the sum of an array, we can iterate through each element of the array and add it to a running total.', 'C': 'int func_sum(int p[], int size) {\\n    int sum = 0;\\n    for (int i = 0; i < size; i++) {\\n        sum += p[i];\\n    }\\n    return sum;\\n}', 'Python': 'def func_sum(p):\\n    return sum(p)'}\n"
     ]
    }
   ],
   "source": [
    "res = strict_json(system_prompt = 'You are a code generator, generating code to fulfil a task',\n",
    "                    user_prompt = 'Given array p, output a function named func_sum to return its sum',\n",
    "                    output_format = {'Elaboration': 'How you would do it',\n",
    "                                     'C': 'Code',\n",
    "                                    'Python': 'Code'})\n",
    "                                    \n",
    "print(res)"
   ]
  },
  {
   "cell_type": "markdown",
   "id": "f180ded0-be2b-4e2e-9d8f-64fb5126a54e",
   "metadata": {
    "tags": []
   },
   "source": [
    "## Easy to split into corresponding elements"
   ]
  },
  {
   "cell_type": "code",
   "execution_count": 9,
   "id": "2b2dc003-4ea1-4bb1-aa74-974d0d022256",
   "metadata": {
    "tags": []
   },
   "outputs": [
    {
     "data": {
      "text/plain": [
       "'To calculate the sum of an array, we can iterate through each element of the array and add it to a running total.'"
      ]
     },
     "execution_count": 9,
     "metadata": {},
     "output_type": "execute_result"
    }
   ],
   "source": [
    "res['Elaboration']"
   ]
  },
  {
   "cell_type": "code",
   "execution_count": 10,
   "id": "ad3d55ef-11b8-41bc-9de2-8627e3286867",
   "metadata": {
    "tags": []
   },
   "outputs": [
    {
     "name": "stdout",
     "output_type": "stream",
     "text": [
      "int func_sum(int p[], int size) {\n",
      "    int sum = 0;\n",
      "    for (int i = 0; i < size; i++) {\n",
      "        sum += p[i];\n",
      "    }\n",
      "    return sum;\n",
      "}\n"
     ]
    }
   ],
   "source": [
    "print(res['C'])"
   ]
  },
  {
   "cell_type": "code",
   "execution_count": 11,
   "id": "3346548c-3f61-4b35-ae44-1fd9dc486498",
   "metadata": {
    "tags": []
   },
   "outputs": [
    {
     "name": "stdout",
     "output_type": "stream",
     "text": [
      "def func_sum(p):\n",
      "    return sum(p)\n"
     ]
    }
   ],
   "source": [
    "print(res['Python'])"
   ]
  },
  {
   "cell_type": "code",
   "execution_count": 12,
   "id": "3f8a3950-8586-440c-a908-b578dadd1e84",
   "metadata": {
    "tags": []
   },
   "outputs": [
    {
     "name": "stdout",
     "output_type": "stream",
     "text": [
      "The output sum is 15\n"
     ]
    }
   ],
   "source": [
    "## we can even run the Python code (potentially risky due to prompt injection attacks when running unverified code)\n",
    "p = [1, 2, 3, 4, 5]\n",
    "exec(res['Python'])\n",
    "try:\n",
    "    print('The output sum is', func_sum(p))\n",
    "except Exception as e:\n",
    "    print('An exception occured')"
   ]
  },
  {
   "cell_type": "markdown",
   "id": "d87f0a58-f8ad-4adc-aeea-45eda85e43f4",
   "metadata": {
    "tags": []
   },
   "source": [
    "# 3. Strict JSON Functions\n",
    "- Enhances ```strict_json()``` with a function-like interface for repeated use of modular LLM-based functions\n",
    "- Inputs (compulsory):\n",
    "    - **fn_description** - Function description to describe process of transforming input variables to output variables\n",
    "    - **output_format** - Dictionary containing output variables names and description for each variable. There must be at least one output variable\n",
    "- Inputs (optional):\n",
    "    - **examples** - Examples in Dictionary form with the input and output variables (list if more than one)\n",
    "    - **input_type** - Dictionary containing input variable names as keys and mapping functions as values (need not contain all variables)\n",
    "    - **output_type** - Dictionary containing output variable names as keys and mapping functions as values (need not contain all variables)\n",
    "    - **kwargs** - Additional arguments you would like to pass on to the ```strict_json``` function\n",
    "        \n",
    "- Outputs:\n",
    "    JSON of output variables in a dictionary (similar to ```strict_json```)\n",
    "    \n",
    "#### Example Usage 1 (Description only)\n",
    "```python\n",
    "# Construct the function: var1 will be first input variable, var2 will be second input variable and so on\n",
    "fn = strict_function(fn_description = 'Output a sentence with words var1 and var2 in the style of var3', \n",
    "                     output_format = {'output': 'sentence'})\n",
    "\n",
    "# Use the function\n",
    "fn('ball', 'dog', 'happy')\n",
    "```\n",
    "\n",
    "#### Example Output 1\n",
    "```{'output': 'The happy dog chased the ball.'}```\n",
    "\n",
    "#### Example Usage 2 (Examples only)\n",
    "```python\n",
    "# Construct the function: infer pattern from just examples without description (here it is multiplication)\n",
    "fn = strict_function(fn_description = 'Map input to output based on examples', \n",
    "                     output_format = {'output': 'final answer'}, \n",
    "                     examples = [{'var1': 3, 'var2': 2, 'output': 6}, \n",
    "                                 {'var1': 5, 'var2': 3, 'output': 15}, \n",
    "                                 {'var1': 7, 'var2': 4, 'output': 28}])\n",
    "\n",
    "# Use the function\n",
    "fn(2, 10)\n",
    "```\n",
    "\n",
    "#### Example Output 2\n",
    "```{'output': 20}```\n",
    "\n",
    "#### Example Usage 3 (Description, Examples and Type Forcing)\n",
    "```python\n",
    "# Construct the function: var1 will be first input variable, var2 will be second input variable and so on\n",
    "fn = strict_function(fn_description = 'Output the sum and difference of var1 and var2', \n",
    "                 output_format = {'sum': 'sum of two numbers', 'difference': 'absolute difference of two numbers'}, \n",
    "                 examples = {'var1': 2, 'var2': 4, 'sum': 6, 'difference': '2'}, \n",
    "                 input_type = {'var1': int, 'var2': int},           # optional\n",
    "                 output_type = {'sum': int, 'difference': str})     # optional\n",
    "\n",
    "# Use the function\n",
    "fn(3, 4)\n",
    "```\n",
    "\n",
    "#### Example Output 3\n",
    "```{'sum': 7, 'difference': '1'}```"
   ]
  },
  {
   "cell_type": "code",
   "execution_count": 13,
   "id": "e6c20009-f3a3-4b02-91f4-5cf6262b5bf9",
   "metadata": {
    "tags": []
   },
   "outputs": [
    {
     "data": {
      "text/plain": [
       "{'output': 'The happy dog chased the ball.'}"
      ]
     },
     "execution_count": 13,
     "metadata": {},
     "output_type": "execute_result"
    }
   ],
   "source": [
    "# basic configuration with no variable names (recommended)\n",
    "# var1 will be first input variable, var2 will be second input variable and so on\n",
    "fn = strict_function(fn_description = 'Output a sentence with words var1 and var2 in the style of var3', \n",
    "                     output_format = {'output': 'sentence'})\n",
    "fn('ball', 'dog', 'happy')"
   ]
  },
  {
   "cell_type": "code",
   "execution_count": 14,
   "id": "a237cb26-2655-4d44-80cb-89454562a07d",
   "metadata": {
    "tags": []
   },
   "outputs": [
    {
     "data": {
      "text/plain": [
       "{'output': 'The dog is happy with the ball.'}"
      ]
     },
     "execution_count": 14,
     "metadata": {},
     "output_type": "execute_result"
    }
   ],
   "source": [
    "# basic configuration with variable names\n",
    "fn = strict_function(fn_description = 'Output a sentence with \"obj\" and \"entity\" in the style of \"emotion\"', \n",
    "                     output_format = {'output': 'sentence'})\n",
    "fn(obj = 'ball', entity = 'dog', emotion = 'happy')"
   ]
  },
  {
   "cell_type": "code",
   "execution_count": 15,
   "id": "a35d19de-cc28-4da7-9f22-3ed309afb337",
   "metadata": {
    "tags": []
   },
   "outputs": [
    {
     "data": {
      "text/plain": [
       "{'output': 20}"
      ]
     },
     "execution_count": 15,
     "metadata": {},
     "output_type": "execute_result"
    }
   ],
   "source": [
    "# infer pattern from just examples without description (here it is multiplication)\n",
    "fn = strict_function(fn_description = 'Map input to output based on examples', \n",
    "                     output_format = {'output': 'final answer'}, \n",
    "                     examples = [{'var1': 3, 'var2': 2, 'output': 6}, \n",
    "                                 {'var1': 5, 'var2': 3, 'output': 15}, \n",
    "                                 {'var1': 7, 'var2': 4, 'output': 28}])\n",
    "fn(2, 10)"
   ]
  },
  {
   "cell_type": "code",
   "execution_count": 16,
   "id": "306ec488-8934-46df-b020-fddc31f740a5",
   "metadata": {
    "tags": []
   },
   "outputs": [
    {
     "data": {
      "text/plain": [
       "{'sum': 7, 'difference': 1}"
      ]
     },
     "execution_count": 16,
     "metadata": {},
     "output_type": "execute_result"
    }
   ],
   "source": [
    "# multiple outputs and examples without strict typing. allows very flexible input types and output types (recommended)\n",
    "fn = strict_function(fn_description = 'Output the sum and difference of var1 and var2', \n",
    "                 output_format = {'sum': 'sum of two numbers', 'difference': 'absolute difference of two numbers'}, \n",
    "                 examples = {'var1': 2, 'var2': 4, 'sum': 6, 'difference': 2})\n",
    "fn(3, 4)"
   ]
  },
  {
   "cell_type": "code",
   "execution_count": 17,
   "id": "3db44fdc-e370-4a58-8e92-3e96c53ba611",
   "metadata": {
    "tags": []
   },
   "outputs": [
    {
     "data": {
      "text/plain": [
       "{'sum': 7, 'difference': '1'}"
      ]
     },
     "execution_count": 17,
     "metadata": {},
     "output_type": "execute_result"
    }
   ],
   "source": [
    "# multiple outputs and examples and strict typing. converts difference into a string\n",
    "fn = strict_function(fn_description = 'Output the sum and difference of var1 and var2', \n",
    "                 output_format = {'sum': 'sum of two numbers', 'difference': 'absolute difference of two numbers'}, \n",
    "                 examples = {'var1': 2, 'var2': 4, 'sum': 6, 'difference': '2'}, \n",
    "                 input_type = {'var1': int, 'var2': int},           # optional\n",
    "                 output_type = {'sum': int, 'difference': str})     # optional\n",
    "fn(3, 4)"
   ]
  },
  {
   "cell_type": "code",
   "execution_count": 18,
   "id": "8e36a590-7082-4271-9615-eefa6fbccbaa",
   "metadata": {
    "tags": []
   },
   "outputs": [
    {
     "data": {
      "text/plain": [
       "{'sum': 7,\n",
       " 'poem': 'In a world so happy and bright, where three meets four in pure delight.',\n",
       " 'code': 'sum = 3 + 4'}"
      ]
     },
     "execution_count": 18,
     "metadata": {},
     "output_type": "execute_result"
    }
   ],
   "source": [
    "# multiple outputs without strict typing. allows very flexible input types and output types (recommended)\n",
    "fn = strict_function(fn_description = '''Output the sum of var1 and var2, \n",
    "                     generate a poem in style of var3 and code in var4''', \n",
    "                 output_format = {'sum': 'sum of two numbers', \n",
    "                'poem': 'poem about the two numbers',\n",
    "                'code': 'code to do the sum of two numbers'})\n",
    "fn('three', 4, 'happy', 'Python')"
   ]
  },
  {
   "cell_type": "code",
   "execution_count": 19,
   "id": "8012b65f-7ead-4ef0-878f-e103fc023a9a",
   "metadata": {
    "tags": []
   },
   "outputs": [
    {
     "data": {
      "text/plain": [
       "{'sum': '7',\n",
       " 'poem': 'Three and four meet\\nIn a dance of numbers pure\\nTheir sum, a delight',\n",
       " 'code': 'ADD var1, var2'}"
      ]
     },
     "execution_count": 19,
     "metadata": {},
     "output_type": "execute_result"
    }
   ],
   "source": [
    "# multiple outputs with strict typing. Converts sum into a string. Unspecified types are converted to best fit\n",
    "fn = strict_function(fn_description = '''Output the sum of var1 and var2, \n",
    "                     generate a poem in style of var3 and code in var4''', \n",
    "                 output_format = {'sum': 'sum of two numbers', \n",
    "                'poem': 'poem about the two numbers',\n",
    "                'code': 'code to do the sum of two numbers'},\n",
    "                 input_type = {'var1': str, 'var2': int},           # optional\n",
    "                 output_type = {'sum': str})                        # optional\n",
    "fn('three', 4, 'haiku', 'Assembly')"
   ]
  },
  {
   "cell_type": "markdown",
   "id": "0db24c42-69ab-4fb2-b168-12e63acf5e66",
   "metadata": {
    "tags": []
   },
   "source": [
    "## Advanced Conversion of list-based outputs\n",
    "- If your output field is of the form of a list, you can ensure strict type conversion of each element using a lambda function\n",
    "- Examples\n",
    "    - For strings, lambda x: [str(y) for y in x]\n",
    "    - For integers, lambda x: [int(y) for y in x]"
   ]
  },
  {
   "cell_type": "code",
   "execution_count": 20,
   "id": "7855ba92-2b57-448c-99df-19df7ea015b5",
   "metadata": {
    "tags": []
   },
   "outputs": [
    {
     "data": {
      "text/plain": [
       "{'primes': ['5', '7', '11', '13', '17'], 'evens': [12, 14, 16, 18, 20]}"
      ]
     },
     "execution_count": 20,
     "metadata": {},
     "output_type": "execute_result"
    }
   ],
   "source": [
    "# multiple outputs with strict typing. shows how to do list[str] conversion using lambda functions\n",
    "fn = strict_function(fn_description = '''Output 5 prime numbers after var1, output 5 even numbers after var2''', \n",
    "                 output_format = {'primes': 'list of primes', 'evens': 'list of evens'},\n",
    "                 input_type = {'var1': int, 'var2': int},                               # optional\n",
    "                 output_type = {'primes': lambda x: [str(y) for y in x],\n",
    "                               'evens': lambda x: [int(y) for y in x]})           # optional\n",
    "fn(4, 10)"
   ]
  },
  {
   "cell_type": "markdown",
   "id": "d321148d-a4ae-4003-be30-c62eda8d2496",
   "metadata": {},
   "source": [
    "# 4. Type specificity hints\n",
    "- Generally, ```strict_json``` will infer the data type automatically for you for the output fields\n",
    "- However, if you would like very specific data types, or to better enforce data types (due to long context etc.), you can just insert data type hints of the form ```type: <data_type>``` into the output field description\n",
    "- This ```<data_type>``` can be the same as Pydantic, or json schema, or simply plain text to guide the LLM\n",
    "- Note: This is not strict converstion, if you would like strict conversion, use ```input_type``` and ```output_type``` which converts the data types using rule-based functions outside of the LLM\n",
    "\n",
    "#### Example Usage\n",
    "```python\n",
    "res = strict_json(system_prompt = 'You are a classifier',\n",
    "                    user_prompt = 'It is a beautiful and sunny day',\n",
    "                    output_format = {'Sentiment': 'Type of Sentiment, type: enum[\"Positive\", \"Negative\"]',\n",
    "                                    'Adjectives': 'List of adjectives, type: List[str]',\n",
    "                                    'Words': 'Number of words, type: int'})\n",
    "                                    \n",
    "print(res)\n",
    "```\n",
    "\n",
    "#### Example output\n",
    "```{'Sentiment': 'Positive', 'Adjectives': ['beautiful', 'sunny'], 'Words': 7}```"
   ]
  },
  {
   "cell_type": "code",
   "execution_count": 21,
   "id": "0dcac6c2-b3a1-4171-8931-dc6f6ff763e6",
   "metadata": {
    "tags": []
   },
   "outputs": [
    {
     "name": "stdout",
     "output_type": "stream",
     "text": [
      "{'Sentiment': 'Positive', 'Adjectives': ['beautiful', 'sunny'], 'Words': 7}\n"
     ]
    }
   ],
   "source": [
    "res = strict_json(system_prompt = 'You are a classifier',\n",
    "                    user_prompt = 'It is a beautiful and sunny day',\n",
    "                    output_format = {'Sentiment': 'Type of Sentiment, type: enum[\"Positive\", \"Negative\"]',\n",
    "                                    'Adjectives': 'List of adjectives, type: List[str]',\n",
    "                                    'Words': 'Number of words, type: int'})\n",
    "\n",
    "print(res)"
   ]
  },
  {
   "cell_type": "markdown",
   "id": "2203a080-179a-42f8-8ba7-6139c836cb75",
   "metadata": {},
   "source": [
    "# 5. Integrating with OpenAI JSON Mode\n",
    "- If you want to use the OpenAI JSON Mode (which is pretty good btw), you can simply add in ```openai_json_mode = True``` in ```strict_json``` or ```strict_function```\n",
    "- Note that the model must be one of ```gpt-4-1106-preview``` or ```gpt-3.5-turbo-1106```. We will set it to ```gpt-3.5-turbo-1106``` by default if you provide an invalid model\n",
    "\n",
    "#### Example Usage\n",
    "```python\n",
    "res = strict_json(system_prompt = 'You are a classifier',\n",
    "                    user_prompt = 'It is a beautiful and sunny day',\n",
    "                    output_format = {'Sentiment': 'Type of Sentiment',\n",
    "                                    'Adjectives': 'List of adjectives',\n",
    "                                    'Words': 'Number of words'},\n",
    "                    openai_json_mode = True) # Toggle this to True\n",
    "                                    \n",
    "print(res)\n",
    "```\n",
    "\n",
    "#### Example output\n",
    "```{'Sentiment': 'positive', 'Adjectives': ['beautiful', 'sunny'], 'Words': 6}```"
   ]
  },
  {
   "cell_type": "code",
   "execution_count": 22,
   "id": "7461dfc5-a3e1-4fd5-8567-c2ca834fab7b",
   "metadata": {
    "tags": []
   },
   "outputs": [
    {
     "name": "stdout",
     "output_type": "stream",
     "text": [
      "{'Sentiment': 'Positive', 'Adjectives': ['beautiful', 'sunny'], 'Words': 6}\n"
     ]
    }
   ],
   "source": [
    "res = strict_json(system_prompt = 'You are a classifier',\n",
    "                    user_prompt = 'It is a beautiful and sunny day',\n",
    "                    output_format = {'Sentiment': 'Type of Sentiment',\n",
    "                                    'Adjectives': 'List of adjectives',\n",
    "                                    'Words': 'Number of words'},\n",
    "                   openai_json_mode = True) # Toggle this to True\n",
    "print(res)"
   ]
  },
  {
   "cell_type": "code",
   "execution_count": 23,
   "id": "7746e0fa-6f64-4513-95e1-6a3d0771a811",
   "metadata": {
    "tags": []
   },
   "outputs": [
    {
     "data": {
      "text/plain": [
       "{'output': 'The ball made the dog happy.'}"
      ]
     },
     "execution_count": 23,
     "metadata": {},
     "output_type": "execute_result"
    }
   ],
   "source": [
    "fn = strict_function(fn_description = 'Output a sentence with words var1 and var2 in the style of var3', \n",
    "                     output_format = {'output': 'sentence'},\n",
    "                    openai_json_mode = True) # Toggle this to True\n",
    "fn('ball', 'dog', 'happy')"
   ]
  },
  {
   "cell_type": "markdown",
   "id": "8885da33-142d-4fc9-a2de-3e930449b1a4",
   "metadata": {
    "tags": []
   },
   "source": [
    "# Optional: Under the hood (Explanation of how strict_json works)\n",
    "- When given the output JSON format, it adds a delimiter (default: ###) to enclose the key of the JSON.\n",
    "- Example output JSON provided: ```{'Sentiment': 'Type of Sentiment'}```\n",
    "- Example output JSON interpreted by Strict JSON: ```{'###Sentiment###': 'Type of Sentiment'}```\n",
    "- We then process the JSON format by using regex to search for the delimiter to extract the keys and values\n",
    "- Note: Change the delimiter to whatever is not present in your dataset"
   ]
  },
  {
   "cell_type": "code",
   "execution_count": 24,
   "id": "6c4e3f68-6384-4715-aefa-52e755343046",
   "metadata": {
    "tags": []
   },
   "outputs": [],
   "source": [
    "# a very difficult chunk of text for json.loads() to parse (it will fail)\n",
    "res = '''{'###Question of the day###': 'What is the 'x' in dx/dy?', \n",
    "'###Code Block 1###': '#include <stdio.h>\\nint main(){\\nint x = 'a'; return 0;\\n}',\n",
    "'###Another Code###': 'import numpy as np\n",
    "### Oh what is this doing here\n",
    "print(\"It can handle so many quotations ' \\\\\" and backslashes and unexpected curly braces { } You don't even need to match }!\")',\n",
    "'###Some characters###': '~!@#$%^&*()_+-'\"{}[];?><,.'}'''"
   ]
  },
  {
   "cell_type": "code",
   "execution_count": 25,
   "id": "2fb7dea7-a034-4964-87fe-d6495bb6d2f8",
   "metadata": {
    "tags": []
   },
   "outputs": [],
   "source": [
    "# change this to whatever is not common in your dataset\n",
    "delimiter = '###'"
   ]
  },
  {
   "cell_type": "code",
   "execution_count": 26,
   "id": "96c3aac1-7c14-447a-8e18-cb312492fba4",
   "metadata": {
    "tags": []
   },
   "outputs": [
    {
     "name": "stdout",
     "output_type": "stream",
     "text": [
      "['Question of the day', \"'What is the 'x' in dx/dy?'\", 'Code Block 1', \"'#include <stdio.h>\\nint main(){\\nint x = 'a'; return 0;\\n}'\", 'Another Code', '\\'import numpy as np\\n### Oh what is this doing here\\nprint(\"It can handle so many quotations \\' \\\\\" and backslashes and unexpected curly braces { } You don\\'t even need to match }!\")\\'', 'Some characters', '\\'~!@#$%^&*()_+-\\'\"{}[];?><,.\\'']\n"
     ]
    }
   ],
   "source": [
    "import re\n",
    "# Use regular expressions to extract keys and values\n",
    "pattern = fr\",*\\s*['|\\\"]{delimiter}([^#]*){delimiter}['|\\\"]: \"\n",
    "\n",
    "matches = re.split(pattern, res[1:-1])\n",
    "\n",
    "# remove null matches\n",
    "my_matches = [match for match in matches if match !='']\n",
    "\n",
    "print(my_matches)"
   ]
  },
  {
   "cell_type": "code",
   "execution_count": 27,
   "id": "b1308e53-e592-466f-aa7a-b91ef0e30878",
   "metadata": {
    "tags": []
   },
   "outputs": [
    {
     "name": "stdout",
     "output_type": "stream",
     "text": [
      "['Question of the day', \"What is the 'x' in dx/dy?\", 'Code Block 1', \"#include <stdio.h>\\nint main(){\\nint x = 'a'; return 0;\\n}\", 'Another Code', 'import numpy as np\\n### Oh what is this doing here\\nprint(\"It can handle so many quotations \\' \\\\\" and backslashes and unexpected curly braces { } You don\\'t even need to match }!\")', 'Some characters', '~!@#$%^&*()_+-\\'\"{}[];?><,.']\n"
     ]
    }
   ],
   "source": [
    "# remove the ' from the value matches\n",
    "curated_matches = [match[1:-1] if match[0] in '\\'\"' else match for match in my_matches]\n",
    "\n",
    "print(curated_matches)"
   ]
  },
  {
   "cell_type": "code",
   "execution_count": 28,
   "id": "35ffdcf6-6433-41f9-bde2-010ab13c12ab",
   "metadata": {
    "tags": []
   },
   "outputs": [
    {
     "data": {
      "text/plain": [
       "8"
      ]
     },
     "execution_count": 28,
     "metadata": {},
     "output_type": "execute_result"
    }
   ],
   "source": [
    "len(curated_matches)"
   ]
  },
  {
   "cell_type": "code",
   "execution_count": 29,
   "id": "eb2062d6-b933-41d1-ad40-5bbca7936157",
   "metadata": {
    "tags": []
   },
   "outputs": [
    {
     "name": "stdout",
     "output_type": "stream",
     "text": [
      "{'Question of the day': \"What is the 'x' in dx/dy?\", 'Code Block 1': \"#include <stdio.h>\\nint main(){\\nint x = 'a'; return 0;\\n}\", 'Another Code': 'import numpy as np\\n### Oh what is this doing here\\nprint(\"It can handle so many quotations \\' \\\\\" and backslashes and unexpected curly braces { } You don\\'t even need to match }!\")', 'Some characters': '~!@#$%^&*()_+-\\'\"{}[];?><,.'}\n"
     ]
    }
   ],
   "source": [
    "# create a dictionary\n",
    "end_dict = {}\n",
    "for i in range(0, len(curated_matches), 2):\n",
    "    end_dict[curated_matches[i]] = curated_matches[i+1]\n",
    "    \n",
    "print(end_dict)"
   ]
  },
  {
   "cell_type": "code",
   "execution_count": 30,
   "id": "a6352e40-759d-476f-9a27-549a48557b0d",
   "metadata": {
    "tags": []
   },
   "outputs": [
    {
     "name": "stdout",
     "output_type": "stream",
     "text": [
      "Key: Question of the day\n",
      "Value: What is the 'x' in dx/dy?\n",
      "#####\n",
      "Key: Code Block 1\n",
      "Value: #include <stdio.h>\n",
      "int main(){\n",
      "int x = 'a'; return 0;\n",
      "}\n",
      "#####\n",
      "Key: Another Code\n",
      "Value: import numpy as np\n",
      "### Oh what is this doing here\n",
      "print(\"It can handle so many quotations ' \\\" and backslashes and unexpected curly braces { } You don't even need to match }!\")\n",
      "#####\n",
      "Key: Some characters\n",
      "Value: ~!@#$%^&*()_+-'\"{}[];?><,.\n",
      "#####\n"
     ]
    }
   ],
   "source": [
    "for key, value in end_dict.items():\n",
    "    print('Key:', key)\n",
    "    print('Value:', value)\n",
    "    print('#####')"
   ]
  }
 ],
 "metadata": {
  "kernelspec": {
   "display_name": "Python 3 (ipykernel)",
   "language": "python",
   "name": "python3"
  },
  "language_info": {
   "codemirror_mode": {
    "name": "ipython",
    "version": 3
   },
   "file_extension": ".py",
   "mimetype": "text/x-python",
   "name": "python",
   "nbconvert_exporter": "python",
   "pygments_lexer": "ipython3",
   "version": "3.11.3"
  }
 },
 "nbformat": 4,
 "nbformat_minor": 5
}
