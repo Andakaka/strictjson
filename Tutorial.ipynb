{
 "cells": [
  {
   "cell_type": "markdown",
   "id": "ec216685-5ec3-497c-9ef8-e1758ca30423",
   "metadata": {},
   "source": [
    "# Strict JSON Usage Tutorial\n",
    "A Strict JSON Framework for LLM Outputs, that fixes problems that json.loads() cannot solve\n",
    "- Works for JSON outputs with multiple ' or \" or { or } or \\ or unmatched braces/brackets that may break a json.loads()\n",
    "- Updated: 8 Feb 2024\n",
    "- Repo: https://github.com/tanchongmin/strictjson\n",
    "- Collaborators welcome\n",
    "\n",
    "## How do I use this? \n",
    "1. Download package via command line ```pip install strictjson```\n",
    "2. Set up your OpenAPI API Key. Refer to ```Tutorial.ipynb``` for how to do it for Jupyter Notebooks.\n",
    "3. Import the required functions from ```strictjson``` and use them!\n",
    "\n",
    "## How does it work?\n",
    "- Extract JSON values as a string using a special regex (add delimiters to ```key``` to make ```###key###```) to split keys and values. (New!) Also works for nested datatypes by splitting recursively.\n",
    "- Uses ```ast.literal_eval``` to best match the extracted output value to a literal (e.g. int, string, dict).\n",
    "- Ensures that all JSON fields are output by LLM, with optional type checking, if not it will feed in error message to LLM to iteratively correct its generation (default: 3 tries)"
   ]
  },
  {
   "cell_type": "markdown",
   "id": "6692060b-12c7-4224-8faf-c104892648e3",
   "metadata": {},
   "source": [
    "# Setup Guide"
   ]
  },
  {
   "cell_type": "markdown",
   "id": "c90f7d98-ebf0-45ad-ae8c-86f01fc641de",
   "metadata": {},
   "source": [
    "## Step 1: Install StrictJSON"
   ]
  },
  {
   "cell_type": "code",
   "execution_count": 1,
   "id": "9cf134f7-108e-48f3-b2e7-88c3b518ae75",
   "metadata": {
    "tags": []
   },
   "outputs": [],
   "source": [
    "# !pip install strictjson"
   ]
  },
  {
   "cell_type": "markdown",
   "id": "3bfc79be-6723-4dba-a555-4782cdb651b1",
   "metadata": {},
   "source": [
    "## Step 2: Set up OpenAI API Key"
   ]
  },
  {
   "cell_type": "code",
   "execution_count": 2,
   "id": "be2280c7-1d2c-4639-b4be-032313ec1b35",
   "metadata": {
    "tags": []
   },
   "outputs": [],
   "source": [
    "#Python way to set up OpenAI API Keys\n",
    "import os\n",
    "os.environ['OPENAI_API_KEY'] = '<YOUR API KEY HERE>'"
   ]
  },
  {
   "cell_type": "markdown",
   "id": "d2145d5c-a309-4fdc-be45-42144d7a5e4c",
   "metadata": {},
   "source": [
    "## Step 3: Import required functions"
   ]
  },
  {
   "cell_type": "code",
   "execution_count": 3,
   "id": "5ef256af-e9d4-4f59-af18-0570b0b49bff",
   "metadata": {
    "tags": []
   },
   "outputs": [],
   "source": [
    "from strictjson import *"
   ]
  },
  {
   "cell_type": "markdown",
   "id": "89870084-63d6-4227-bae7-30578a3f005f",
   "metadata": {
    "tags": []
   },
   "source": [
    "# 1. Basic Generation\n",
    "\n",
    "- **system_prompt**: Write in whatever you want GPT to become. \"You are a \\<purpose in life\\>\"\n",
    "- **user_prompt**: The user input. Later, when we use it as a function, this is the function input\n",
    "- **output_format**: JSON of output variables in a dictionary, with the key as the output key, and the value as the output description\n",
    "    - The output keys will be preserved exactly, while GPT will generate content to match the description of the value as best as possible\n",
    "\n",
    "#### Example Usage\n",
    "```python\n",
    "res = strict_json(system_prompt = 'You are a classifier',\n",
    "                    user_prompt = 'It is a beautiful and sunny day',\n",
    "                    output_format = {'Sentiment': 'Type of Sentiment',\n",
    "                                    'Adjectives': 'List of adjectives',\n",
    "                                    'Words': 'Number of words'})\n",
    "                                    \n",
    "print(res)\n",
    "```\n",
    "\n",
    "#### Example output\n",
    "```{'Sentiment': 'Positive', 'Adjectives': ['beautiful', 'sunny'], 'Words': 7}```"
   ]
  },
  {
   "cell_type": "code",
   "execution_count": 4,
   "id": "c9099840-700d-403a-bc3c-28843d0295c9",
   "metadata": {
    "tags": []
   },
   "outputs": [
    {
     "name": "stdout",
     "output_type": "stream",
     "text": [
      "{'Sentiment': 'Positive', 'Adjectives': ['beautiful', 'sunny'], 'Words': 7}\n"
     ]
    }
   ],
   "source": [
    "res = strict_json(system_prompt = 'You are a classifier',\n",
    "                    user_prompt = 'It is a beautiful and sunny day',\n",
    "                    output_format = {'Sentiment': 'Type of Sentiment',\n",
    "                                    'Adjectives': 'List of adjectives',\n",
    "                                    'Words': 'Number of words'})\n",
    "print(res)"
   ]
  },
  {
   "cell_type": "markdown",
   "id": "f7e2f8c2-8bcd-40ce-84c8-3e2e18f644d0",
   "metadata": {
    "tags": []
   },
   "source": [
    "## Easy to split into corresponding elements"
   ]
  },
  {
   "cell_type": "code",
   "execution_count": 5,
   "id": "ea2ee9a7-9583-4081-b66e-aa8f790a37b0",
   "metadata": {
    "tags": []
   },
   "outputs": [
    {
     "data": {
      "text/plain": [
       "'Positive'"
      ]
     },
     "execution_count": 5,
     "metadata": {},
     "output_type": "execute_result"
    }
   ],
   "source": [
    "res['Sentiment']"
   ]
  },
  {
   "cell_type": "code",
   "execution_count": 6,
   "id": "89da94ce-724a-4da4-89b0-bb575728a398",
   "metadata": {
    "tags": []
   },
   "outputs": [
    {
     "data": {
      "text/plain": [
       "['beautiful', 'sunny']"
      ]
     },
     "execution_count": 6,
     "metadata": {},
     "output_type": "execute_result"
    }
   ],
   "source": [
    "res['Adjectives']"
   ]
  },
  {
   "cell_type": "code",
   "execution_count": 7,
   "id": "a726d205-b7d8-4e5e-9326-b3ee3a2fe921",
   "metadata": {
    "tags": []
   },
   "outputs": [
    {
     "data": {
      "text/plain": [
       "7"
      ]
     },
     "execution_count": 7,
     "metadata": {},
     "output_type": "execute_result"
    }
   ],
   "source": [
    "res['Words']"
   ]
  },
  {
   "cell_type": "markdown",
   "id": "64a724c9-df20-4a57-9379-09c2820c4019",
   "metadata": {
    "tags": []
   },
   "source": [
    "# 2. Advanced Generation\n",
    "- More advanced demonstration involving code that would typically break ```json.loads()```\n",
    "\n",
    "#### Example Usage\n",
    "```python\n",
    "res = strict_json(system_prompt = 'You are a code generator, generating code to fulfil a task',\n",
    "                    user_prompt = 'Given array p, output a function named func_sum to return its sum',\n",
    "                    output_format = {'Elaboration': 'How you would do it',\n",
    "                                     'C': 'Code',\n",
    "                                    'Python': 'Code'})\n",
    "                                    \n",
    "print(res)\n",
    "```\n",
    "\n",
    "#### Example output\n",
    "```{'Elaboration': 'Use a loop to iterate through each element in the array and add it to a running total.', ```\n",
    "\n",
    "```'C': 'int func_sum(int p[], int size) {\\n    int sum = 0;\\n    for (int i = 0; i < size; i++) {\\n        sum += p[i];\\n    }\\n    return sum;\\n}', ```\n",
    "\n",
    "```'Python': 'def func_sum(p):\\n    sum = 0\\n    for num in p:\\n        sum += num\\n    return sum'}```\n"
   ]
  },
  {
   "cell_type": "code",
   "execution_count": 8,
   "id": "d81d20de-e40f-441e-b438-9dd09e89bcc9",
   "metadata": {
    "tags": []
   },
   "outputs": [
    {
     "name": "stdout",
     "output_type": "stream",
     "text": [
      "{'Elaboration': 'Use a loop to iterate through each element in the array and add it to a running total.', 'C': 'int func_sum(int p[], int size) {\\n    int sum = 0;\\n    for (int i = 0; i < size; i++) {\\n        sum += p[i];\\n    }\\n    return sum;\\n}', 'Python': 'def func_sum(p):\\n    sum = 0\\n    for num in p:\\n        sum += num\\n    return sum\\n'}\n"
     ]
    }
   ],
   "source": [
    "res = strict_json(system_prompt = 'You are a code generator, generating code to fulfil a task',\n",
    "                    user_prompt = 'Given array p, output a function named func_sum to return its sum',\n",
    "                    output_format = {'Elaboration': 'How you would do it',\n",
    "                                     'C': 'Code',\n",
    "                                    'Python': 'Code'})\n",
    "                                    \n",
    "print(res)"
   ]
  },
  {
   "cell_type": "markdown",
   "id": "f180ded0-be2b-4e2e-9d8f-64fb5126a54e",
   "metadata": {
    "tags": []
   },
   "source": [
    "## Easy to split into corresponding elements"
   ]
  },
  {
   "cell_type": "code",
   "execution_count": 9,
   "id": "2b2dc003-4ea1-4bb1-aa74-974d0d022256",
   "metadata": {
    "tags": []
   },
   "outputs": [
    {
     "data": {
      "text/plain": [
       "'Use a loop to iterate through each element in the array and add it to a running total.'"
      ]
     },
     "execution_count": 9,
     "metadata": {},
     "output_type": "execute_result"
    }
   ],
   "source": [
    "res['Elaboration']"
   ]
  },
  {
   "cell_type": "code",
   "execution_count": 10,
   "id": "ad3d55ef-11b8-41bc-9de2-8627e3286867",
   "metadata": {
    "tags": []
   },
   "outputs": [
    {
     "name": "stdout",
     "output_type": "stream",
     "text": [
      "int func_sum(int p[], int size) {\n",
      "    int sum = 0;\n",
      "    for (int i = 0; i < size; i++) {\n",
      "        sum += p[i];\n",
      "    }\n",
      "    return sum;\n",
      "}\n"
     ]
    }
   ],
   "source": [
    "print(res['C'])"
   ]
  },
  {
   "cell_type": "code",
   "execution_count": 11,
   "id": "3346548c-3f61-4b35-ae44-1fd9dc486498",
   "metadata": {
    "tags": []
   },
   "outputs": [
    {
     "name": "stdout",
     "output_type": "stream",
     "text": [
      "def func_sum(p):\n",
      "    sum = 0\n",
      "    for num in p:\n",
      "        sum += num\n",
      "    return sum\n",
      "\n"
     ]
    }
   ],
   "source": [
    "print(res['Python'])"
   ]
  },
  {
   "cell_type": "code",
   "execution_count": 12,
   "id": "3f8a3950-8586-440c-a908-b578dadd1e84",
   "metadata": {
    "tags": []
   },
   "outputs": [
    {
     "name": "stdout",
     "output_type": "stream",
     "text": [
      "The output sum is 15\n"
     ]
    }
   ],
   "source": [
    "## we can even run the Python code (potentially risky due to prompt injection attacks when running unverified code)\n",
    "p = [1, 2, 3, 4, 5]\n",
    "exec(res['Python'])\n",
    "try:\n",
    "    print('The output sum is', func_sum(p))\n",
    "except Exception as e:\n",
    "    print('An exception occured')"
   ]
  },
  {
   "cell_type": "markdown",
   "id": "55a88380-bc9b-4b1f-84ec-906906313369",
   "metadata": {
    "tags": []
   },
   "source": [
    "# 3. Type forcing\n",
    "- Generally, ```strict_json``` will infer the data type automatically for you for the output fields\n",
    "- However, if you would like very specific data types, you can do data forcing using ```type: <data_type>``` at the last part of the output field description\n",
    "- ```<data_type>``` must be of the form `int`, `float`, `str`, `dict`, `list`, `Dict[]`, `List[]`, `Enum[]`\n",
    "- The `Enum` and `List` are not case sensitive, so `enum` and `list` works just as well\n",
    "- For `Enum[list_of_category_names]`, it is best to give an \"Other\" category in case the LLM fails to classify correctly with the other options.\n",
    "- If `list` or `List[]` is not formatted correctly in LLM's output, we will correct it by asking the LLM to list out the elements line by line\n",
    "- For `dict`,  we can further check whether keys are present using `Dict[list_of_key_names]`\n",
    "- Other types will first be forced by rule-based conversion, any further errors will be fed into LLM's error feedback mechanism\n",
    "- If `<data_type>` is not the specified data types, it can still be useful to shape the output for the LLM. However, no type checking will be done.\n",
    "\n",
    "### LLM-based checks\n",
    "- If you would like the LLM to ensure that the type is being met, use `type: ensure <requirement>`\n",
    "- This will run a LLM to check if the requirement is met. If requirement is not met, the LLM will generate what needs to be done to meet the requirement, which will be fed into the error-correcting loop of `strict_json`\n",
    "\n",
    "#### Example Usage 1\n",
    "```python\n",
    "res = strict_json(system_prompt = 'You are a classifier',\n",
    "                    user_prompt = 'It is a beautiful and sunny day',\n",
    "                    output_format = {'Sentiment': 'Type of Sentiment, type: Enum[\"Pos\", \"Neg\", \"Other\"]',\n",
    "                                    'Adjectives': 'List of adjectives, type: List[str]',\n",
    "                                    'Words': 'Number of words, type: int'})\n",
    "                                    \n",
    "print(res)\n",
    "```\n",
    "\n",
    "#### Example output 1\n",
    "```{'Sentiment': 'Pos', 'Adjectives': ['beautiful', 'sunny'], 'Words': 7}```\n",
    "\n",
    "#### Example Usage 2\n",
    "```python\n",
    "res = strict_json(system_prompt = 'You are an expert at organising birthday parties',\n",
    "                    user_prompt = 'Give me some information on how to organise a birthday',\n",
    "                    output_format = {'Famous Quote': 'quote with name, type: ensure quote contains the word age',\n",
    "                                    'Lucky draw numbers': '3 numbers from 1-50, type: List[int]',\n",
    "                                    'Sample venues': 'Describe two venues, type: List[Dict[\"Venue\", \"Description\"]]'})\n",
    "\n",
    "print(res)\n",
    "```\n",
    "\n",
    "#### Example output 2\n",
    "```{'Famous Quote': 'The secret of staying young is to live honestly, eat slowly, and lie about your age. - Lucille Ball',```\n",
    "```'Lucky draw numbers': [7, 21, 35],```\n",
    "\n",
    "```'Sample venues': [{'Venue': 'Beachside Resort', 'Description': 'A beautiful resort with stunning views of the beach. Perfect for a summer birthday party.'}, {'Venue': 'Indoor Trampoline Park', 'Description': 'An exciting venue with trampolines and fun activities. Ideal for an active and energetic birthday celebration.'}]}```"
   ]
  },
  {
   "cell_type": "code",
   "execution_count": 13,
   "id": "0dcac6c2-b3a1-4171-8931-dc6f6ff763e6",
   "metadata": {
    "tags": []
   },
   "outputs": [
    {
     "name": "stdout",
     "output_type": "stream",
     "text": [
      "{'Sentiment': 'Pos', 'Adjectives': ['beautiful', 'sunny'], 'Words': 7}\n"
     ]
    }
   ],
   "source": [
    "res = strict_json(system_prompt = 'You are a classifier',\n",
    "                    user_prompt = 'It is a beautiful and sunny day',\n",
    "                    output_format = {'Sentiment': 'Type of Sentiment, type: Enum[\"Pos\", \"Neg\", \"Other\"]',\n",
    "                                    'Adjectives': 'Adjectives, type: List[str]',\n",
    "                                    'Words': 'Number of words, type: int'})\n",
    "\n",
    "print(res)"
   ]
  },
  {
   "cell_type": "code",
   "execution_count": 14,
   "id": "8b44bcff-1469-47bb-a4ef-cf6b3794bd19",
   "metadata": {
    "tags": []
   },
   "outputs": [
    {
     "name": "stdout",
     "output_type": "stream",
     "text": [
      "Using LLM to check The secret of staying young is to live honestly, eat slowly, and lie about your age. - Lucille Ball to see if it adheres to quote contains the word age\n",
      "Thoughts: The quote does contain the word \"age\".\n",
      "Requirement Met: True\n",
      "\n",
      "\n",
      "{'Famous Quote': 'The secret of staying young is to live honestly, eat slowly, and lie about your age. - Lucille Ball', 'Lucky draw numbers': [7, 21, 35], 'Sample venues': [{'Venue': 'Beachside Resort', 'Description': 'A beautiful resort located by the beach, perfect for a fun and relaxing birthday party.'}, {'Venue': 'Indoor Trampoline Park', 'Description': 'An exciting venue filled with trampolines and fun activities, ideal for an energetic and adventurous birthday celebration.'}]}\n"
     ]
    }
   ],
   "source": [
    "# Example of multiple nested inputs with multiple types of checks\n",
    "# Quotes may fail json parsing, so let us use LLMs to fix it\n",
    "res = strict_json(system_prompt = 'You are an expert at organising birthday parties',\n",
    "                    user_prompt = 'Give me some information on how to organise a birthday',\n",
    "                    output_format = {'Famous Quote': 'quote with name, type: ensure quote contains the word age',\n",
    "                                    'Lucky draw numbers': '3 numbers from 1-50, type: List[int]',\n",
    "                                    'Sample venues': 'Describe two venues, type: List[Dict[\"Venue\", \"Description\"]]'})\n",
    "\n",
    "print(res)"
   ]
  },
  {
   "cell_type": "markdown",
   "id": "d87f0a58-f8ad-4adc-aeea-45eda85e43f4",
   "metadata": {
    "tags": []
   },
   "source": [
    "# 4. Strict JSON Functions\n",
    "- Enhances ```strict_json()``` with a function-like interface for repeated use of modular LLM-based functions\n",
    "- Use angle brackets <> to enclose variable names\n",
    "- Inputs (compulsory):\n",
    "    - **fn_description** - Function description to describe process of transforming input variables to output variables\n",
    "    - **output_format** - Dictionary containing output variables names and description for each variable. There must be at least one output variable\n",
    "- Inputs (optional):\n",
    "    - **variable_names** - How the variables should be named in a list, if you don't want to use the default var1, var2, e.g.\n",
    "    - **examples** - Examples in Dictionary form with the input and output variables (list if more than one)\n",
    "    - **kwargs** - Additional arguments you would like to pass on to the ```strict_json``` function\n",
    "        \n",
    "- Outputs:\n",
    "    JSON of output variables in a dictionary (similar to ```strict_json```)\n",
    "    \n",
    "#### Example Usage 1 (Description only)\n",
    "```python\n",
    "# Construct the function: var1 will be first input variable, var2 will be second input variable and so on\n",
    "fn = strict_function(fn_description = 'Output a sentence with words <var1> and <var2> in the style of <var3>', \n",
    "                     output_format = {'output': 'sentence'})\n",
    "\n",
    "# Use the function\n",
    "fn('ball', 'dog', 'happy')\n",
    "```\n",
    "\n",
    "#### Example Output 1\n",
    "```{'output': 'The happy dog chased the ball.'}```\n",
    "\n",
    "#### Example Usage 2 (Examples only)\n",
    "```python\n",
    "# Construct the function: infer pattern from just examples without description (here it is multiplication)\n",
    "fn = strict_function(fn_description = 'Map input to output based on examples', \n",
    "                     output_format = {'output': 'final answer'}, \n",
    "                     examples = [{'var1': 3, 'var2': 2, 'output': 6}, \n",
    "                                 {'var1': 5, 'var2': 3, 'output': 15}, \n",
    "                                 {'var1': 7, 'var2': 4, 'output': 28}])\n",
    "\n",
    "# Use the function\n",
    "fn(2, 10)\n",
    "```\n",
    "\n",
    "#### Example Output 2\n",
    "```{'output': 20}```\n",
    "\n",
    "#### Example Usage 3 (Description and Variable Names and Examples)\n",
    "```python\n",
    "# Construct the function: description and examples with variable names\n",
    "# variable names will be referenced in order of input\n",
    "fn = strict_function(fn_description = 'Output the sum and difference of <num1> and <num2>', \n",
    "                 output_format = {'sum': 'sum of two numbers', \n",
    "                                  'difference': 'absolute difference of two numbers'}, \n",
    "                 variable_names = ['num1', 'num2'],\n",
    "                 examples = {'num1': 2, 'num2': 4, 'sum': 6, 'difference': 2})\n",
    "\n",
    "# Use the function\n",
    "fn(3, 4)\n",
    "```\n",
    "\n",
    "#### Example Output 3\n",
    "```{'sum': 7, 'difference': 1}```"
   ]
  },
  {
   "cell_type": "code",
   "execution_count": 15,
   "id": "e6c20009-f3a3-4b02-91f4-5cf6262b5bf9",
   "metadata": {
    "tags": []
   },
   "outputs": [
    {
     "data": {
      "text/plain": [
       "{'output': 'The happy dog chased the ball.'}"
      ]
     },
     "execution_count": 15,
     "metadata": {},
     "output_type": "execute_result"
    }
   ],
   "source": [
    "# basic configuration with no variable names (recommended)\n",
    "# var1 will be first input variable, var2 will be second input variable and so on\n",
    "fn = strict_function(fn_description = 'Output a sentence with words <var1> and <var2> in the style of <var3>', \n",
    "                     output_format = {'output': 'sentence'})\n",
    "fn('ball', 'dog', 'happy')"
   ]
  },
  {
   "cell_type": "code",
   "execution_count": 16,
   "id": "a237cb26-2655-4d44-80cb-89454562a07d",
   "metadata": {
    "tags": []
   },
   "outputs": [
    {
     "data": {
      "text/plain": [
       "{'output': 'The dog is happily playing with the ball.'}"
      ]
     },
     "execution_count": 16,
     "metadata": {},
     "output_type": "execute_result"
    }
   ],
   "source": [
    "# basic configuration with variable names (in order of input sequence)\n",
    "fn = strict_function(fn_description = 'Output a sentence with <obj> and <entity> in the style of <emotion>', \n",
    "                     output_format = {'output': 'sentence'},\n",
    "                     variable_names = ['obj', 'entity', 'emotion'])\n",
    "fn('ball', 'dog', 'happy')"
   ]
  },
  {
   "cell_type": "code",
   "execution_count": 17,
   "id": "a35d19de-cc28-4da7-9f22-3ed309afb337",
   "metadata": {
    "tags": []
   },
   "outputs": [
    {
     "data": {
      "text/plain": [
       "{'output': 20}"
      ]
     },
     "execution_count": 17,
     "metadata": {},
     "output_type": "execute_result"
    }
   ],
   "source": [
    "# infer pattern from just examples without description (here it is multiplication)\n",
    "fn = strict_function(fn_description = 'Map input to output based on examples', \n",
    "                     output_format = {'output': 'final answer'}, \n",
    "                     examples = [{'var1': 3, 'var2': 2, 'output': 6}, \n",
    "                                 {'var1': 5, 'var2': 3, 'output': 15}, \n",
    "                                 {'var1': 7, 'var2': 4, 'output': 28}])\n",
    "fn(2, 10)"
   ]
  },
  {
   "cell_type": "code",
   "execution_count": 18,
   "id": "306ec488-8934-46df-b020-fddc31f740a5",
   "metadata": {
    "tags": []
   },
   "outputs": [
    {
     "data": {
      "text/plain": [
       "{'sum': 7, 'difference': 1}"
      ]
     },
     "execution_count": 18,
     "metadata": {},
     "output_type": "execute_result"
    }
   ],
   "source": [
    "# multiple outputs and examples with variable names (recommended)\n",
    "fn = strict_function(fn_description = 'Output the sum and difference of <num1> and <num2>', \n",
    "                 output_format = {'sum': 'sum of two numbers', \n",
    "                                  'difference': 'absolute difference of two numbers'}, \n",
    "                 variable_names = ['num1', 'num2'],\n",
    "                 examples = {'num1': 2, 'num2': 4, 'sum': 6, 'difference': 2})\n",
    "fn(3, 4)"
   ]
  },
  {
   "cell_type": "code",
   "execution_count": 19,
   "id": "8e36a590-7082-4271-9615-eefa6fbccbaa",
   "metadata": {
    "tags": []
   },
   "outputs": [
    {
     "data": {
      "text/plain": [
       "{'sum': 7,\n",
       " 'poem': 'In a world of joy and glee,\\nThree and four, a harmony.\\nTheir sum, a blissful sight to see,\\nBringing happiness for you and me.',\n",
       " 'code': 'sum = int(num1) + int(num2)'}"
      ]
     },
     "execution_count": 19,
     "metadata": {},
     "output_type": "execute_result"
    }
   ],
   "source": [
    "# multiple outputs with variable names\n",
    "fn = strict_function(fn_description = '''Output the sum of <num1> and <num2>, which can be string,\n",
    "generate a poem in style of poem_style and code in prog_language''', \n",
    "                 output_format = {'sum': 'sum of two numbers', \n",
    "                'poem': 'poem about two numbers',\n",
    "                'code': 'code to do the sum of any two numbers num1 and num2'},\n",
    "                variable_names = ['num1', 'num2', 'poem_style', 'prog_langauge'])\n",
    "fn('three', 4, 'happy', 'Python')"
   ]
  },
  {
   "cell_type": "markdown",
   "id": "69835d6b-f7a5-4b02-8ac0-4fa716781e34",
   "metadata": {
    "tags": []
   },
   "source": [
    "# 5. Integrating with OpenAI JSON Mode\n",
    "- If you want to use the OpenAI JSON Mode (which is pretty good btw), you can simply add in ```openai_json_mode = True``` in ```strict_json``` or ```strict_function```\n",
    "- Note that the model must be one of ```gpt-4-1106-preview``` or ```gpt-3.5-turbo-1106```. We will set it to ```gpt-3.5-turbo-1106``` by default if you provide an invalid model\n",
    "\n",
    "#### Example Usage\n",
    "```python\n",
    "res = strict_json(system_prompt = 'You are a classifier',\n",
    "                    user_prompt = 'It is a beautiful and sunny day',\n",
    "                    output_format = {'Sentiment': 'Type of Sentiment',\n",
    "                                    'Adjectives': 'List of adjectives',\n",
    "                                    'Words': 'Number of words'},\n",
    "                    openai_json_mode = True) # Toggle this to True\n",
    "                                    \n",
    "print(res)\n",
    "```\n",
    "\n",
    "#### Example output\n",
    "```{'Sentiment': 'positive', 'Adjectives': ['beautiful', 'sunny'], 'Words': 6}```"
   ]
  },
  {
   "cell_type": "code",
   "execution_count": 20,
   "id": "7461dfc5-a3e1-4fd5-8567-c2ca834fab7b",
   "metadata": {
    "tags": []
   },
   "outputs": [
    {
     "name": "stdout",
     "output_type": "stream",
     "text": [
      "{'Sentiment': 'Positive', 'Adjectives': ['beautiful', 'sunny'], 'Words': 6}\n"
     ]
    }
   ],
   "source": [
    "res = strict_json(system_prompt = 'You are a classifier',\n",
    "                    user_prompt = 'It is a beautiful and sunny day',\n",
    "                    output_format = {'Sentiment': 'Type of Sentiment',\n",
    "                                    'Adjectives': 'List of adjectives',\n",
    "                                    'Words': 'Number of words'},\n",
    "                   openai_json_mode = True) # Toggle this to True\n",
    "print(res)"
   ]
  },
  {
   "cell_type": "code",
   "execution_count": 21,
   "id": "7746e0fa-6f64-4513-95e1-6a3d0771a811",
   "metadata": {
    "tags": []
   },
   "outputs": [
    {
     "data": {
      "text/plain": [
       "{'output': 'The ball made the dog happy.'}"
      ]
     },
     "execution_count": 21,
     "metadata": {},
     "output_type": "execute_result"
    }
   ],
   "source": [
    "fn = strict_function(fn_description = 'Output a sentence with words var1 and var2 in the style of var3', \n",
    "                     output_format = {'output': 'sentence'},\n",
    "                    openai_json_mode = True) # Toggle this to True\n",
    "fn('ball', 'dog', 'happy')"
   ]
  },
  {
   "cell_type": "markdown",
   "id": "851fae25-cc89-458f-b77f-db4f54b8fc02",
   "metadata": {
    "tags": []
   },
   "source": [
    "# 6. Additional Output Field Checks (Advanced)\n",
    "\n",
    "- You can also specify your own custom check function that will be used to check the output field (which will be in `str`, `int`, `float`, `list` or `dict` format inferred by LLM or specified in `type: <data type>`)\n",
    "- Ensure that what you are checking for is implied in the output field's description in `output_format` of `strict_json` or `strict_function`\n",
    "- Your custom check function must take in: `output_field`\n",
    "- Your custom check function must output: \n",
    "    - `requirement` (str): The requirement you are checking for\n",
    "    - `requirement_met` (bool): Whether condition is met, True or False\n",
    "    - `action_needed` (str): What needs to be done to meet requirement if requirement_met is False\n",
    "- If `requirement_met` is False, the `action_needed` message will be used for the `strict_json` error correcting mechanism. Otherwise, the error correcting mechanism will not be triggered\n",
    "- `action_needed` is used to tell the LLM what it needs to do to meet your requirements (LLM is not able to self-correct without guidance for most cases). Try to be as specific as possible to improve error correction success rate.\n",
    "- Pass in your custom check function inside `custom_checks` variable of `strict_json` or `strict_function` under the same key as that in `output_format`\n",
    "- You can add multiple check functions for one variable by putting it inside the same list\n",
    "- Example custom check function named `hello_world_check` which checks for the presence of hello world\n",
    "- You can also use information in the variable `check_data` for checks (input via `strict_json` or `strict_function`)\n",
    "\n",
    "#### Example Custom Check Functions\n",
    "```python\n",
    "def hello_world_check(output_field, check_data) -> (str, bool, str):\n",
    "    ''' Example function 1: Checks whether hello world is present in output_field. '''\n",
    "    requirement = 'Check whether hello world is present in output field'\n",
    "    requirement_met = True\n",
    "    action_needed = ''\n",
    "    # do a check for requirement of having 'hello'\n",
    "    if 'hello' not in str(output_field):\n",
    "        requirement_met = False\n",
    "        action_needed += 'Add in the word hello into output field, '\n",
    "    if 'world' not in str(output_field):\n",
    "        requirement_met = False\n",
    "        action_needed += 'Add in the word world into output field, '\n",
    "    return (requirement, requirement_met, action_needed)\n",
    "```\n",
    "\n",
    "```python\n",
    "def function_name_check(output_field, check_data) -> (str, bool, str):\n",
    "    ''' Example function 2: Checks whether function name is present in output_field\n",
    "    Uses additional information from the check_data variable of strict_json'''\n",
    "    function_name = check_data['Function name']\n",
    "    requirement = f'Check whether {function_name} is present in output field'\n",
    "    requirement_met = True\n",
    "    action_needed = ''\n",
    "    \n",
    "    # do a check for requirement of having 'myprint'\n",
    "    if function_name not in str(output_field):\n",
    "        requirement_met = False\n",
    "        action_needed += f'Ensure that function name \"{function_name}\" is used, '\n",
    "    return (requirement, requirement_met, action_needed)\n",
    "```\n",
    "\n",
    "#### Example Usage 1 (in strict_json)\n",
    "```python\n",
    "# we can input our custom_checks as a list of check functions, and check_data is the additional information for these check functions\n",
    "res = strict_json(system_prompt = 'You are a code generator',\n",
    "                    user_prompt = 'Print out hello world',\n",
    "                    output_format = {'Thoughts': 'How to do it',\n",
    "                                    'Python Code': 'Function beginning with def myprint() -> str:'},\n",
    "                    custom_checks = {'Python Code': [hello_world_check, function_name_check]},\n",
    "                    check_data = {'Function name:' 'myprint'})\n",
    "                                    \n",
    "print(res)\n",
    "```\n",
    "#### Example Output 1\n",
    "`Running check for \"Check whether hello world is present in output field\" on output field of \"Python Code\"\n",
    "Requirement met`\n",
    "\n",
    "\n",
    "`Running check for \"Check whether myprint is present in output field\" on output field of \"Python Code\"\n",
    "Requirement met`\n",
    "\n",
    "\n",
    "`{'Thoughts': 'To print out \"hello world\", use the print() function in Python.',`\n",
    "`'Python Code': 'def myprint() -> str:\\n    return \"hello world\"'}`\n",
    "\n",
    "#### Example Usage 2 (in strict_function)\n",
    "\n",
    "```python\n",
    "fn = strict_function(fn_description = 'Output code to print hello world in a function named <var1>', \n",
    "                     output_format = {'Python code': 'Python function named <var1> to print hello world'},\n",
    "                     custom_checks = {'Python code': [function_name_check]})\n",
    "\n",
    "# in runtime of function, we can input what we would want to check in check_data if we are not sure what it will be beforehand\n",
    "fn('hello world', 'myprint', check_data = {'Function name': 'myprint'})\n",
    "```\n",
    "\n",
    "#### Example Output 2\n",
    "\n",
    "`Running check for \"Check whether myprint is present in output field\" on output field of \"Python code\"\n",
    "Requirement met`\n",
    "\n",
    "`{'Python code': 'def myprint():\\n    print(\"hello world\")'}`"
   ]
  },
  {
   "cell_type": "code",
   "execution_count": 22,
   "id": "95ee40f9-827b-4952-b5d9-8cfde7236fe0",
   "metadata": {
    "tags": []
   },
   "outputs": [],
   "source": [
    "def hello_world_check(output_field, check_data) -> (str, bool, str):\n",
    "    ''' Example function 1: Checks whether hello world is present in output_field. '''\n",
    "    requirement = 'Check whether hello world is present in output field'\n",
    "    requirement_met = True\n",
    "    action_needed = ''\n",
    "    # do a check for requirement of having 'hello'\n",
    "    if 'hello' not in str(output_field):\n",
    "        requirement_met = False\n",
    "        action_needed += 'Add in the word hello into output field, '\n",
    "    if 'world' not in str(output_field):\n",
    "        requirement_met = False\n",
    "        action_needed += 'Add in the word world into output field, '\n",
    "    return (requirement, requirement_met, action_needed)\n",
    "\n",
    "def function_name_check(output_field, check_data) -> (str, bool, str):\n",
    "    ''' Example function 2: Checks whether function name is present in output_field\n",
    "    Uses additional information from the check_data variable of strict_json'''\n",
    "    function_name = check_data['Function name']\n",
    "    requirement = f'Check whether {function_name} is present in output field'\n",
    "    requirement_met = True\n",
    "    action_needed = ''\n",
    "    \n",
    "    # do a check for requirement of having 'myprint'\n",
    "    if function_name not in str(output_field):\n",
    "        requirement_met = False\n",
    "        action_needed += f'Ensure that function name \"{function_name}\" is used, '\n",
    "    return (requirement, requirement_met, action_needed)"
   ]
  },
  {
   "cell_type": "code",
   "execution_count": 23,
   "id": "444c96a4-650c-4982-95db-eec35ae3aa3d",
   "metadata": {
    "tags": []
   },
   "outputs": [
    {
     "name": "stdout",
     "output_type": "stream",
     "text": [
      "Running check for \"Check whether hello world is present in output field\" on output field of \"Python Code\"\n",
      "Requirement met\n",
      "\n",
      "\n",
      "Running check for \"Check whether myprint is present in output field\" on output field of \"Python Code\"\n",
      "Requirement met\n",
      "\n",
      "\n",
      "{'Thoughts': 'To print out \"hello world\", use the print() function in Python.', 'Python Code': 'def myprint() -> str:\\n    return \"hello world\"'}\n"
     ]
    }
   ],
   "source": [
    "# we can input our custom_checks as a list of check functions, and check_data is the additional information for these check functions\n",
    "res = strict_json(system_prompt = 'You are a code generator',\n",
    "                    user_prompt = 'Print out hello world',\n",
    "                    output_format = {'Thoughts': 'How to do it',\n",
    "                                    'Python Code': 'Function beginning with def myprint() -> str:'},\n",
    "                    custom_checks = {'Python Code': [hello_world_check, function_name_check]},\n",
    "                    check_data = {'Function name': 'myprint'})\n",
    "                                    \n",
    "print(res)"
   ]
  },
  {
   "cell_type": "code",
   "execution_count": 24,
   "id": "037e302b-ca48-4bc8-8b54-caf3323ab622",
   "metadata": {
    "tags": []
   },
   "outputs": [
    {
     "name": "stdout",
     "output_type": "stream",
     "text": [
      "Running check for \"Check whether myprint is present in output field\" on output field of \"Python code\"\n",
      "Requirement met\n",
      "\n",
      "\n"
     ]
    },
    {
     "data": {
      "text/plain": [
       "{'Python code': 'def myprint():\\n    print(\"hello world\")'}"
      ]
     },
     "execution_count": 24,
     "metadata": {},
     "output_type": "execute_result"
    }
   ],
   "source": [
    "fn = strict_function(fn_description = 'Output code to print hello world in a function named <var1>', \n",
    "                     output_format = {'Python code': 'Python function named <var1> to print hello world'},\n",
    "                     custom_checks = {'Python code': [function_name_check]})\n",
    "\n",
    "# in runtime of function, we can input what we would want to check in check_data if we are not sure what it will be beforehand\n",
    "fn('hello world', 'myprint', check_data = {'Function name': 'myprint'})"
   ]
  },
  {
   "cell_type": "markdown",
   "id": "8885da33-142d-4fc9-a2de-3e930449b1a4",
   "metadata": {
    "tags": []
   },
   "source": [
    "# Optional: Under the hood (Explanation of how strict_json works)\n",
    "- When given the output JSON format, it adds a delimiter (default: ###) to enclose the key of the JSON.\n",
    "- Example output JSON provided: ```{'Sentiment': 'Type of Sentiment'}```\n",
    "- Example output JSON interpreted by Strict JSON: ```{'###Sentiment###': 'Type of Sentiment'}```\n",
    "- We then process the JSON format by using regex to search for the delimiter to extract the keys and values\n",
    "- Note: Change the delimiter to whatever is not present in your dataset"
   ]
  },
  {
   "cell_type": "code",
   "execution_count": 25,
   "id": "6c4e3f68-6384-4715-aefa-52e755343046",
   "metadata": {
    "tags": []
   },
   "outputs": [],
   "source": [
    "# a very difficult chunk of text for json.loads() to parse (it will fail)\n",
    "res = '''{'###Question of the day###': 'What is the 'x' in dx/dy?', \n",
    "'###Code Block 1###': '#include <stdio.h>\\nint main(){\\nint x = 'a'; return 0;\\n}',\n",
    "'###Another Code###': 'import numpy as np\n",
    "### Oh what is this doing here\n",
    "print(\"It can handle so many quotations ' \\\\\" and backslashes and unexpected curly braces { } You don't even need to match }!\")',\n",
    "'###Some characters###': '~!@#$%^&*()_+-'\"{}[];?><,.'}'''"
   ]
  },
  {
   "cell_type": "code",
   "execution_count": 26,
   "id": "2fb7dea7-a034-4964-87fe-d6495bb6d2f8",
   "metadata": {
    "tags": []
   },
   "outputs": [],
   "source": [
    "# change this to whatever is not common in your dataset\n",
    "delimiter = '###'"
   ]
  },
  {
   "cell_type": "code",
   "execution_count": 27,
   "id": "96c3aac1-7c14-447a-8e18-cb312492fba4",
   "metadata": {
    "tags": []
   },
   "outputs": [
    {
     "name": "stdout",
     "output_type": "stream",
     "text": [
      "['Question of the day', \"'What is the 'x' in dx/dy?'\", 'Code Block 1', \"'#include <stdio.h>\\nint main(){\\nint x = 'a'; return 0;\\n}'\", 'Another Code', '\\'import numpy as np\\n### Oh what is this doing here\\nprint(\"It can handle so many quotations \\' \\\\\" and backslashes and unexpected curly braces { } You don\\'t even need to match }!\")\\'', 'Some characters', '\\'~!@#$%^&*()_+-\\'\"{}[];?><,.\\'']\n"
     ]
    }
   ],
   "source": [
    "import re\n",
    "# Use regular expressions to extract keys and values\n",
    "pattern = fr\",*\\s*['|\\\"]{delimiter}([^#]*){delimiter}['|\\\"]: \"\n",
    "\n",
    "matches = re.split(pattern, res[1:-1])\n",
    "\n",
    "# remove null matches\n",
    "my_matches = [match for match in matches if match !='']\n",
    "\n",
    "print(my_matches)"
   ]
  },
  {
   "cell_type": "code",
   "execution_count": 28,
   "id": "b1308e53-e592-466f-aa7a-b91ef0e30878",
   "metadata": {
    "tags": []
   },
   "outputs": [
    {
     "name": "stdout",
     "output_type": "stream",
     "text": [
      "['Question of the day', \"What is the 'x' in dx/dy?\", 'Code Block 1', \"#include <stdio.h>\\nint main(){\\nint x = 'a'; return 0;\\n}\", 'Another Code', 'import numpy as np\\n### Oh what is this doing here\\nprint(\"It can handle so many quotations \\' \\\\\" and backslashes and unexpected curly braces { } You don\\'t even need to match }!\")', 'Some characters', '~!@#$%^&*()_+-\\'\"{}[];?><,.']\n"
     ]
    }
   ],
   "source": [
    "# remove the ' from the value matches\n",
    "curated_matches = [match[1:-1] if match[0] in '\\'\"' else match for match in my_matches]\n",
    "\n",
    "print(curated_matches)"
   ]
  },
  {
   "cell_type": "code",
   "execution_count": 29,
   "id": "35ffdcf6-6433-41f9-bde2-010ab13c12ab",
   "metadata": {
    "tags": []
   },
   "outputs": [
    {
     "data": {
      "text/plain": [
       "8"
      ]
     },
     "execution_count": 29,
     "metadata": {},
     "output_type": "execute_result"
    }
   ],
   "source": [
    "len(curated_matches)"
   ]
  },
  {
   "cell_type": "code",
   "execution_count": 30,
   "id": "eb2062d6-b933-41d1-ad40-5bbca7936157",
   "metadata": {
    "tags": []
   },
   "outputs": [
    {
     "name": "stdout",
     "output_type": "stream",
     "text": [
      "{'Question of the day': \"What is the 'x' in dx/dy?\", 'Code Block 1': \"#include <stdio.h>\\nint main(){\\nint x = 'a'; return 0;\\n}\", 'Another Code': 'import numpy as np\\n### Oh what is this doing here\\nprint(\"It can handle so many quotations \\' \\\\\" and backslashes and unexpected curly braces { } You don\\'t even need to match }!\")', 'Some characters': '~!@#$%^&*()_+-\\'\"{}[];?><,.'}\n"
     ]
    }
   ],
   "source": [
    "# create a dictionary\n",
    "end_dict = {}\n",
    "for i in range(0, len(curated_matches), 2):\n",
    "    end_dict[curated_matches[i]] = curated_matches[i+1]\n",
    "    \n",
    "print(end_dict)"
   ]
  },
  {
   "cell_type": "code",
   "execution_count": 31,
   "id": "a6352e40-759d-476f-9a27-549a48557b0d",
   "metadata": {
    "tags": []
   },
   "outputs": [
    {
     "name": "stdout",
     "output_type": "stream",
     "text": [
      "Key: Question of the day\n",
      "Value: What is the 'x' in dx/dy?\n",
      "#####\n",
      "Key: Code Block 1\n",
      "Value: #include <stdio.h>\n",
      "int main(){\n",
      "int x = 'a'; return 0;\n",
      "}\n",
      "#####\n",
      "Key: Another Code\n",
      "Value: import numpy as np\n",
      "### Oh what is this doing here\n",
      "print(\"It can handle so many quotations ' \\\" and backslashes and unexpected curly braces { } You don't even need to match }!\")\n",
      "#####\n",
      "Key: Some characters\n",
      "Value: ~!@#$%^&*()_+-'\"{}[];?><,.\n",
      "#####\n"
     ]
    }
   ],
   "source": [
    "for key, value in end_dict.items():\n",
    "    print('Key:', key)\n",
    "    print('Value:', value)\n",
    "    print('#####')"
   ]
  }
 ],
 "metadata": {
  "kernelspec": {
   "display_name": "Python 3 (ipykernel)",
   "language": "python",
   "name": "python3"
  },
  "language_info": {
   "codemirror_mode": {
    "name": "ipython",
    "version": 3
   },
   "file_extension": ".py",
   "mimetype": "text/x-python",
   "name": "python",
   "nbconvert_exporter": "python",
   "pygments_lexer": "ipython3",
   "version": "3.11.3"
  }
 },
 "nbformat": 4,
 "nbformat_minor": 5
}
