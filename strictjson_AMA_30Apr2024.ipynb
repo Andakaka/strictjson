{
 "cells": [
  {
   "cell_type": "markdown",
   "id": "abe801c4-f502-4425-a6e4-82b7e317a23f",
   "metadata": {
    "tags": []
   },
   "source": [
    "# StrictJSON Ask Me Anything\n",
    "- A comprehensive guide as to how to use StrictJSON\n",
    "- Produced live on 30 Apr 2024\n",
    "- John Tan Chong Min\n",
    "- Github repo: https://github.com/tanchongmin/strictjson"
   ]
  },
  {
   "cell_type": "code",
   "execution_count": null,
   "id": "05d8ec31-3aa0-4d5e-b5bc-38ade3a63c9c",
   "metadata": {},
   "outputs": [],
   "source": [
    "#!pip install strictjson"
   ]
  },
  {
   "cell_type": "code",
   "execution_count": 10,
   "id": "4f9a710b-c54f-49b4-9d23-db9b63262140",
   "metadata": {
    "tags": []
   },
   "outputs": [],
   "source": [
    "# yes, you just need these two\n",
    "import os\n",
    "from strictjson import *"
   ]
  },
  {
   "cell_type": "code",
   "execution_count": 6,
   "id": "04d10dfa-4638-46ca-98ed-ae1a021739da",
   "metadata": {
    "tags": []
   },
   "outputs": [],
   "source": [
    "os.environ['OPENAI_API_KEY'] = '<YOUR API KEY>'"
   ]
  },
  {
   "cell_type": "code",
   "execution_count": 11,
   "id": "1ba1313a-9640-4faf-b304-add9c21fb1f9",
   "metadata": {
    "tags": []
   },
   "outputs": [
    {
     "data": {
      "text/plain": [
       "{'Classification': 'Positive'}"
      ]
     },
     "execution_count": 11,
     "metadata": {},
     "output_type": "execute_result"
    }
   ],
   "source": [
    "# sample strict_json template\n",
    "strict_json('You are a classifier',\n",
    "            'It is a beautiful and sunny day',\n",
    "            output_format = {'Classification': 'Positive or Negative'})"
   ]
  },
  {
   "cell_type": "markdown",
   "id": "07f8c582-e9cf-4dd8-98bb-476ed9dbd6c0",
   "metadata": {},
   "source": [
    "# Basic Stuff: Classification, Extraction, etc"
   ]
  },
  {
   "cell_type": "code",
   "execution_count": 14,
   "id": "4ccc6c92-d408-4f88-8de1-0cad949b1a49",
   "metadata": {
    "tags": []
   },
   "outputs": [
    {
     "name": "stdout",
     "output_type": "stream",
     "text": [
      "Attempting to use LLM to fix ['The birds are chirping in the trees', 'The flowers are blooming in the meadow', 'Nature's beauty surrounds us with peace'] as it is not a proper array\n",
      "Fixed list: ['The birds are chirping in the trees,', 'The flowers are blooming in the meadow,', \"Nature's beauty surrounds us with peace,\"]\n",
      "\n",
      "\n"
     ]
    },
    {
     "data": {
      "text/plain": [
       "{'Poem with three more sentences Array': ['The birds are chirping in the trees,',\n",
       "  'The flowers are blooming in the meadow,',\n",
       "  \"Nature's beauty surrounds us with peace,\"]}"
      ]
     },
     "execution_count": 14,
     "metadata": {},
     "output_type": "execute_result"
    }
   ],
   "source": [
    "strict_json('You are a poem extender',\n",
    "            'It is a beautiful and sunny day',\n",
    "            output_format = {'Poem with three more sentences Array': 'Write three more sentences to complete the poem, type: array'})"
   ]
  },
  {
   "cell_type": "code",
   "execution_count": 250,
   "id": "b46cec99-8fa8-4b6a-97fa-1bae4207be53",
   "metadata": {
    "tags": []
   },
   "outputs": [],
   "source": [
    "text = '''Base Functionalities (see Tutorial.ipynb)\n",
    "Ensures LLM outputs into a dictionary based on a JSON format (HUGE: Nested lists and dictionaries now supported)\n",
    "Supports int, float, str, dict, list, Dict[], List[], Enum[], bool type forcing with LLM-based error correction, as well as LLM-based error correction using type: ensure <restriction>, and (advanced) custom user checks using custom_checks\n",
    "Easy construction of LLM-based functions using Function (Note: renamed from strict_function to keep in line with naming convention of capitalised class groups. strict_function still works for legacy support.)\n",
    "Easy integration with OpenAI JSON Mode by setting openai_json_mode = True\n",
    "Exposing of llm variable for strict_json and Function for easy use of self-defined LLMs'''"
   ]
  },
  {
   "cell_type": "code",
   "execution_count": 254,
   "id": "c3a48dad-4fb5-47a7-bdbe-5b8e781b28ec",
   "metadata": {
    "tags": []
   },
   "outputs": [],
   "source": [
    "# Alternate way to get array by doing splits\n",
    "res = strict_json(system_prompt = '''Output the types that are supported by StrictJSON, including uppercase types\n",
    "Example Output Type Array: ['int', 'float', 'Enum[]'] ''',\n",
    "            user_prompt = text,\n",
    "            output_format = {'Output Type Array': 'Output types, type: array'})"
   ]
  },
  {
   "cell_type": "code",
   "execution_count": 255,
   "id": "b7d8e631-ab7c-438e-9ecb-7b7e12012508",
   "metadata": {
    "tags": []
   },
   "outputs": [
    {
     "data": {
      "text/plain": [
       "{'Output Type Array': ['int',\n",
       "  'float',\n",
       "  'str',\n",
       "  'dict',\n",
       "  'list',\n",
       "  'Dict[]',\n",
       "  'List[]',\n",
       "  'Enum[]',\n",
       "  'bool']}"
      ]
     },
     "execution_count": 255,
     "metadata": {},
     "output_type": "execute_result"
    }
   ],
   "source": [
    "res"
   ]
  },
  {
   "cell_type": "code",
   "execution_count": 256,
   "id": "4094f407-d523-4bc5-8d7d-4af74f177899",
   "metadata": {
    "tags": []
   },
   "outputs": [],
   "source": [
    "# Alternate way to get array by doing splits\n",
    "res = strict_json(system_prompt = '''Output the types that are supported by StrictJSON, including uppercase types\n",
    "Example Output Types: 'int'; 'float'; 'Enum[]' ''',\n",
    "            user_prompt = text,\n",
    "            output_format = {'Output Types': 'Output types separated by ;'})"
   ]
  },
  {
   "cell_type": "code",
   "execution_count": 257,
   "id": "8951fcea-5d23-4bd6-8365-833a983ef60c",
   "metadata": {
    "tags": []
   },
   "outputs": [
    {
     "data": {
      "text/plain": [
       "['int', 'float', 'str', 'dict', 'list', 'Dict[]', 'List[]', 'Enum[]', 'bool']"
      ]
     },
     "execution_count": 257,
     "metadata": {},
     "output_type": "execute_result"
    }
   ],
   "source": [
    "res['Output Types'].split('; ')"
   ]
  },
  {
   "cell_type": "code",
   "execution_count": 48,
   "id": "56671932-9c76-4721-9517-a27ea9f4f6ab",
   "metadata": {
    "tags": []
   },
   "outputs": [],
   "source": [
    "res = strict_json(system_prompt = '''Find out all the (obj1, relationship, obj2) triplets''',\n",
    "            user_prompt = text,\n",
    "            output_format = {'Triplet Array': 'Triplets of the form (obj1, relationship, obj2), type: array'})"
   ]
  },
  {
   "cell_type": "code",
   "execution_count": 51,
   "id": "3ce9ee41-0ce7-4cc3-9de5-c46cc1fffcae",
   "metadata": {
    "tags": []
   },
   "outputs": [],
   "source": [
    "triplet_list = res['Triplet Array']"
   ]
  },
  {
   "cell_type": "code",
   "execution_count": 73,
   "id": "940d74a5-a457-41d4-8fd7-30274c8a9aea",
   "metadata": {
    "tags": []
   },
   "outputs": [],
   "source": [
    "res2 = strict_json(system_prompt = '''Given the triplet list, write some code to display this as a Knowledge Graph''',\n",
    "            user_prompt = triplet_list,\n",
    "            output_format = {'Code': 'Code in Python to display knowledge graph from triplet list'}, model = 'gpt-4-turbo')"
   ]
  },
  {
   "cell_type": "code",
   "execution_count": 74,
   "id": "b8872aff-784c-4d88-a708-680d769e277e",
   "metadata": {
    "tags": []
   },
   "outputs": [
    {
     "name": "stdout",
     "output_type": "stream",
     "text": [
      "import networkx as nx\n",
      "import matplotlib.pyplot as plt\n",
      "\n",
      "triplets = [('Base Functionalities', 'supports', 'int'), ('Base Functionalities', 'supports', 'float'), ('Base Functionalities', 'supports', 'str'), ('Base Functionalities', 'supports', 'dict'), ('Base Functionalities', 'supports', 'list'), ('Base Functionalities', 'supports', 'Dict[]'), ('Base Functionalities', 'supports', 'List[]'), ('Base Functionalities', 'supports', 'Enum[]'), ('Base Functionalities', 'supports', 'bool'), ('Base Functionalities', 'supports', 'type: ensure <restriction>'), ('Base Functionalities', 'supports', 'custom user checks using custom_checks'), ('Base Functionalities', 'supports', 'Function'), ('Base Functionalities', 'supports', 'OpenAI JSON Mode'), ('Base Functionalities', 'exposes', 'llm variable'), ('Base Functionalities', 'exposes', 'Function')]\n",
      "\n",
      "g = nx.DiGraph()\n",
      "for s, p, o in triplets:\n",
      "    g.add_edge(s, o, label=p)\n",
      "pos = nx.spring_layout(g)\n",
      "nx.draw(g, pos, with_labels=True, node_color='skyblue', node_size=2000, edge_color='k', linewidths=1, font_size=15)\n",
      "edge_labels = nx.get_edge_attributes(g, 'label')\n",
      "nx.draw_networkx_edge_labels(g, pos, edge_labels=edge_labels)\n",
      "plt.show()\n"
     ]
    }
   ],
   "source": [
    "print(res2['Code'])"
   ]
  },
  {
   "cell_type": "markdown",
   "id": "4db96231-1a23-4f64-abbf-fcf15f10a1ef",
   "metadata": {},
   "source": [
    "## How to do error correction for code"
   ]
  },
  {
   "cell_type": "code",
   "execution_count": 77,
   "id": "4487da17-1e69-4ed0-adab-9963dd1a6d76",
   "metadata": {
    "tags": []
   },
   "outputs": [
    {
     "ename": "TypeError",
     "evalue": "'_AxesStack' object is not callable",
     "output_type": "error",
     "traceback": [
      "\u001b[0;31m---------------------------------------------------------------------------\u001b[0m",
      "\u001b[0;31mTypeError\u001b[0m                                 Traceback (most recent call last)",
      "Cell \u001b[0;32mIn[77], line 10\u001b[0m\n\u001b[1;32m      8\u001b[0m     g\u001b[38;5;241m.\u001b[39madd_edge(s, o, label\u001b[38;5;241m=\u001b[39mp)\n\u001b[1;32m      9\u001b[0m pos \u001b[38;5;241m=\u001b[39m nx\u001b[38;5;241m.\u001b[39mspring_layout(g)\n\u001b[0;32m---> 10\u001b[0m nx\u001b[38;5;241m.\u001b[39mdraw(g, pos, with_labels\u001b[38;5;241m=\u001b[39m\u001b[38;5;28;01mTrue\u001b[39;00m, node_color\u001b[38;5;241m=\u001b[39m\u001b[38;5;124m'\u001b[39m\u001b[38;5;124mskyblue\u001b[39m\u001b[38;5;124m'\u001b[39m, node_size\u001b[38;5;241m=\u001b[39m\u001b[38;5;241m2000\u001b[39m, edge_color\u001b[38;5;241m=\u001b[39m\u001b[38;5;124m'\u001b[39m\u001b[38;5;124mk\u001b[39m\u001b[38;5;124m'\u001b[39m, linewidths\u001b[38;5;241m=\u001b[39m\u001b[38;5;241m1\u001b[39m, font_size\u001b[38;5;241m=\u001b[39m\u001b[38;5;241m15\u001b[39m)\n\u001b[1;32m     11\u001b[0m edge_labels \u001b[38;5;241m=\u001b[39m nx\u001b[38;5;241m.\u001b[39mget_edge_attributes(g, \u001b[38;5;124m'\u001b[39m\u001b[38;5;124mlabel\u001b[39m\u001b[38;5;124m'\u001b[39m)\n\u001b[1;32m     12\u001b[0m nx\u001b[38;5;241m.\u001b[39mdraw_networkx_edge_labels(g, pos, edge_labels\u001b[38;5;241m=\u001b[39medge_labels)\n",
      "File \u001b[0;32m~/anaconda3/lib/python3.11/site-packages/networkx/drawing/nx_pylab.py:113\u001b[0m, in \u001b[0;36mdraw\u001b[0;34m(G, pos, ax, **kwds)\u001b[0m\n\u001b[1;32m    111\u001b[0m cf\u001b[38;5;241m.\u001b[39mset_facecolor(\u001b[38;5;124m\"\u001b[39m\u001b[38;5;124mw\u001b[39m\u001b[38;5;124m\"\u001b[39m)\n\u001b[1;32m    112\u001b[0m \u001b[38;5;28;01mif\u001b[39;00m ax \u001b[38;5;129;01mis\u001b[39;00m \u001b[38;5;28;01mNone\u001b[39;00m:\n\u001b[0;32m--> 113\u001b[0m     \u001b[38;5;28;01mif\u001b[39;00m cf\u001b[38;5;241m.\u001b[39m_axstack() \u001b[38;5;129;01mis\u001b[39;00m \u001b[38;5;28;01mNone\u001b[39;00m:\n\u001b[1;32m    114\u001b[0m         ax \u001b[38;5;241m=\u001b[39m cf\u001b[38;5;241m.\u001b[39madd_axes((\u001b[38;5;241m0\u001b[39m, \u001b[38;5;241m0\u001b[39m, \u001b[38;5;241m1\u001b[39m, \u001b[38;5;241m1\u001b[39m))\n\u001b[1;32m    115\u001b[0m     \u001b[38;5;28;01melse\u001b[39;00m:\n",
      "\u001b[0;31mTypeError\u001b[0m: '_AxesStack' object is not callable"
     ]
    },
    {
     "data": {
      "text/plain": [
       "<Figure size 640x480 with 0 Axes>"
      ]
     },
     "metadata": {},
     "output_type": "display_data"
    }
   ],
   "source": [
    "import networkx as nx\n",
    "import matplotlib.pyplot as plt\n",
    "\n",
    "triplets = [('Base Functionalities', 'supports', 'int'), ('Base Functionalities', 'supports', 'float'), ('Base Functionalities', 'supports', 'str'), ('Base Functionalities', 'supports', 'dict'), ('Base Functionalities', 'supports', 'list'), ('Base Functionalities', 'supports', 'Dict[]'), ('Base Functionalities', 'supports', 'List[]'), ('Base Functionalities', 'supports', 'Enum[]'), ('Base Functionalities', 'supports', 'bool'), ('Base Functionalities', 'supports', 'type: ensure <restriction>'), ('Base Functionalities', 'supports', 'custom user checks using custom_checks'), ('Base Functionalities', 'supports', 'Function'), ('Base Functionalities', 'supports', 'OpenAI JSON Mode'), ('Base Functionalities', 'exposes', 'llm variable'), ('Base Functionalities', 'exposes', 'Function')]\n",
    "\n",
    "g = nx.DiGraph()\n",
    "for s, p, o in triplets:\n",
    "    g.add_edge(s, o, label=p)\n",
    "pos = nx.spring_layout(g)\n",
    "nx.draw(g, pos, with_labels=True, node_color='skyblue', node_size=2000, edge_color='k', linewidths=1, font_size=15)\n",
    "edge_labels = nx.get_edge_attributes(g, 'label')\n",
    "nx.draw_networkx_edge_labels(g, pos, edge_labels=edge_labels)\n",
    "plt.show()"
   ]
  },
  {
   "cell_type": "code",
   "execution_count": 78,
   "id": "33f746f5-421d-4b1f-a680-655d18867bf6",
   "metadata": {
    "tags": []
   },
   "outputs": [],
   "source": [
    "code = '''import networkx as nx\n",
    "import matplotlib.pyplot as plt\n",
    "\n",
    "triplets = [('Base Functionalities', 'supports', 'int'), ('Base Functionalities', 'supports', 'float'), ('Base Functionalities', 'supports', 'str'), ('Base Functionalities', 'supports', 'dict'), ('Base Functionalities', 'supports', 'list'), ('Base Functionalities', 'supports', 'Dict[]'), ('Base Functionalities', 'supports', 'List[]'), ('Base Functionalities', 'supports', 'Enum[]'), ('Base Functionalities', 'supports', 'bool'), ('Base Functionalities', 'supports', 'type: ensure <restriction>'), ('Base Functionalities', 'supports', 'custom user checks using custom_checks'), ('Base Functionalities', 'supports', 'Function'), ('Base Functionalities', 'supports', 'OpenAI JSON Mode'), ('Base Functionalities', 'exposes', 'llm variable'), ('Base Functionalities', 'exposes', 'Function')]\n",
    "\n",
    "g = nx.DiGraph()\n",
    "for s, p, o in triplets:\n",
    "    g.add_edge(s, o, label=p)\n",
    "pos = nx.spring_layout(g)\n",
    "nx.draw(g, pos, with_labels=True, node_color='skyblue', node_size=2000, edge_color='k', linewidths=1, font_size=15)\n",
    "edge_labels = nx.get_edge_attributes(g, 'label')\n",
    "nx.draw_networkx_edge_labels(g, pos, edge_labels=edge_labels)\n",
    "plt.show()'''\n",
    "\n",
    "error = '''---------------------------------------------------------------------------\n",
    "TypeError                                 Traceback (most recent call last)\n",
    "Cell In[77], line 10\n",
    "      8     g.add_edge(s, o, label=p)\n",
    "      9 pos = nx.spring_layout(g)\n",
    "---> 10 nx.draw(g, pos, with_labels=True, node_color='skyblue', node_size=2000, edge_color='k', linewidths=1, font_size=15)\n",
    "     11 edge_labels = nx.get_edge_attributes(g, 'label')\n",
    "     12 nx.draw_networkx_edge_labels(g, pos, edge_labels=edge_labels)\n",
    "\n",
    "File ~/anaconda3/lib/python3.11/site-packages/networkx/drawing/nx_pylab.py:113, in draw(G, pos, ax, **kwds)\n",
    "    111 cf.set_facecolor(\"w\")\n",
    "    112 if ax is None:\n",
    "--> 113     if cf._axstack() is None:\n",
    "    114         ax = cf.add_axes((0, 0, 1, 1))\n",
    "    115     else:\n",
    "\n",
    "TypeError: '_AxesStack' object is not callable'''"
   ]
  },
  {
   "cell_type": "code",
   "execution_count": 80,
   "id": "a5e64300-70c7-4be0-aa99-6ab3f0512756",
   "metadata": {
    "tags": []
   },
   "outputs": [],
   "source": [
    "# use strictjson to do error correction\n",
    "res3 = strict_json(system_prompt = f'''Given the Code and Error, correct the Code\n",
    "Code: ```{code}```\n",
    "Error: ```{error}```''',\n",
    "            user_prompt = '',\n",
    "            output_format = {'Code': 'Repeat Code',\n",
    "                             'Error': 'Repeat Error',\n",
    "                             'Thoughts': 'How to correct code',\n",
    "                             'Corrected Code': 'Code in Python to display knowledge graph from triplet list'},\n",
    "                  model = 'gpt-4-turbo')"
   ]
  },
  {
   "cell_type": "code",
   "execution_count": 81,
   "id": "deaf1600-4706-46c2-b336-087b7a077e1e",
   "metadata": {
    "tags": []
   },
   "outputs": [
    {
     "name": "stdout",
     "output_type": "stream",
     "text": [
      "{'Code': \"import networkx as nx\\nimport matplotlib.pyplot as plt\\n\\ntriplets = [('Base Functionalities', 'supports', 'int'), ('Base Functionalities', 'supports', 'float'), ('Base Functionalities', 'supports', 'str'), ('Base Functionalities', 'supports', 'dict'), ('Base Functionalities', 'supports', 'list'), ('Base Functionalities', 'supports', 'Dict[]'), ('Base Functionalities', 'supports', 'List[]'), ('Base Functionalities', 'supports', 'Enum[]'), ('Base Functionalities', 'supports', 'bool'), ('Base Functionalities', 'supports', 'type: ensure <restriction>'), ('Base Functionalities', 'supports', 'custom user checks using custom_checks'), ('Base Functionalities', 'supports', 'Function'), ('Base Functionalities', 'supports', 'OpenAI JSON Mode'), ('Base Functionalities', 'exposes', 'llm variable'), ('Base Functionalities', 'exposes', 'Function')]\\n\\ng = nx.DiGraph()\\nfor s, p, o in triplets:\\n    g.add_edge(s, o, label=p)\\npos = nx.spring_layout(g)\\nnx.draw(g, pos, with_labels=True, node_color='skyblue', node_size=2000, edge_color='k', linewidths=1, font_size=15)\\nedge_labels = nx.get_edge_attributes(g, 'label')\\nnx.draw_networkx_edge_labels(g, pos, edge_labels=edge_labels)\\nplt.show()\", 'Error': '---------------------------------------------------------------------------\\nTypeError                                 Traceback (most recent call last)\\nCell In[77], line 10\\n      8     g.add_edge(s, o, label=p)\\n      9 pos = nx.spring_layout(g)\\n---> 10 nx.draw(g, pos, with_labels=True, node_color=\\'skyblue\\', node_size=2000, edge_color=\\'k\\', linewidths=1, font_size=15)\\n     11 edge_labels = nx.get_edge_attributes(g, \\'label\\')\\n     12 nx.draw_networkx_edge_labels(g, pos, edge_labels=edge_labels)\\n\\nFile ~/anaconda3/lib/python3.11/site-packages/networkx/drawing/nx_pylab.py:113, in draw(G, pos, ax, **kwds)\\n    111 cf.set_facecolor(\"w\")\\n    112 if ax is None:\\n--> 113     if cf._axstack() is None:\\n    114         ax = cf.add_axes((0, 0, 1, 1))\\n    115     else:\\n\\nTypeError: \\'_AxesStack\\' object is not callable', 'Thoughts': 'The error seems to be related to the matplotlib version compatibility with networkx. It might be resolved by ensuring that the versions of matplotlib and networkx are compatible, or by using a different method to draw the graph if the issue persists.', 'Corrected Code': \"import networkx as nx\\nimport matplotlib.pyplot as plt\\n\\ntriplets = [('Base Functionalities', 'supports', 'int'), ('Base Functionalities', 'supports', 'float'), ('Base Functionalities', 'supports', 'str'), ('Base Functionalities', 'supports', 'dict'), ('Base Functionalities', 'supports', 'list'), ('Base Functionalities', 'supports', 'Dict[]'), ('Base Functionalities', 'supports', 'List[]'), ('Base Functionalities', 'supports', 'Enum[]'), ('Base Functionalities', 'supports', 'bool'), ('Base Functionalities', 'supports', 'type: ensure <restriction>'), ('Base Functionalities', 'supports', 'custom user checks using custom_checks'), ('Base Functionalities', 'supports', 'Function'), ('Base Functionalities', 'supports', 'OpenAI JSON Mode'), ('Base Functionalities', 'exposes', 'llm variable'), ('Base Functionalities', 'exposes', 'Function')]\\n\\ng = nx.DiGraph()\\nfor s, p, o in triplets:\\n    g.add_edge(s, o, label=p)\\npos = nx.spring_layout(g)\\nfig, ax = plt.subplots()\\nnx.draw(g, pos, ax=ax, with_labels=True, node_color='skyblue', node_size=2000, edge_color='k', linewidths=1, font_size=15)\\nedge_labels = nx.get_edge_attributes(g, 'label')\\nnx.draw_networkx_edge_labels(g, pos, edge_labels=edge_labels, ax=ax)\\nplt.show()\"}\n"
     ]
    }
   ],
   "source": [
    "print(res3)"
   ]
  },
  {
   "cell_type": "code",
   "execution_count": 82,
   "id": "c41332dc-0f39-4df0-8e29-a0ad10100d4d",
   "metadata": {
    "tags": []
   },
   "outputs": [
    {
     "name": "stdout",
     "output_type": "stream",
     "text": [
      "import networkx as nx\n",
      "import matplotlib.pyplot as plt\n",
      "\n",
      "triplets = [('Base Functionalities', 'supports', 'int'), ('Base Functionalities', 'supports', 'float'), ('Base Functionalities', 'supports', 'str'), ('Base Functionalities', 'supports', 'dict'), ('Base Functionalities', 'supports', 'list'), ('Base Functionalities', 'supports', 'Dict[]'), ('Base Functionalities', 'supports', 'List[]'), ('Base Functionalities', 'supports', 'Enum[]'), ('Base Functionalities', 'supports', 'bool'), ('Base Functionalities', 'supports', 'type: ensure <restriction>'), ('Base Functionalities', 'supports', 'custom user checks using custom_checks'), ('Base Functionalities', 'supports', 'Function'), ('Base Functionalities', 'supports', 'OpenAI JSON Mode'), ('Base Functionalities', 'exposes', 'llm variable'), ('Base Functionalities', 'exposes', 'Function')]\n",
      "\n",
      "g = nx.DiGraph()\n",
      "for s, p, o in triplets:\n",
      "    g.add_edge(s, o, label=p)\n",
      "pos = nx.spring_layout(g)\n",
      "fig, ax = plt.subplots()\n",
      "nx.draw(g, pos, ax=ax, with_labels=True, node_color='skyblue', node_size=2000, edge_color='k', linewidths=1, font_size=15)\n",
      "edge_labels = nx.get_edge_attributes(g, 'label')\n",
      "nx.draw_networkx_edge_labels(g, pos, edge_labels=edge_labels, ax=ax)\n",
      "plt.show()\n"
     ]
    }
   ],
   "source": [
    "print(res3['Corrected Code'])"
   ]
  },
  {
   "cell_type": "code",
   "execution_count": 83,
   "id": "f5939ae4-d03f-4210-b8e9-61ae05bd8401",
   "metadata": {
    "tags": []
   },
   "outputs": [
    {
     "data": {
      "image/png": "[encoded data removed]",
      "text/plain": [
       "<Figure size 640x480 with 1 Axes>"
      ]
     },
     "metadata": {},
     "output_type": "display_data"
    }
   ],
   "source": [
    "import networkx as nx\n",
    "import matplotlib.pyplot as plt\n",
    "\n",
    "triplets = [('Base Functionalities', 'supports', 'int'), ('Base Functionalities', 'supports', 'float'), ('Base Functionalities', 'supports', 'str'), ('Base Functionalities', 'supports', 'dict'), ('Base Functionalities', 'supports', 'list'), ('Base Functionalities', 'supports', 'Dict[]'), ('Base Functionalities', 'supports', 'List[]'), ('Base Functionalities', 'supports', 'Enum[]'), ('Base Functionalities', 'supports', 'bool'), ('Base Functionalities', 'supports', 'type: ensure <restriction>'), ('Base Functionalities', 'supports', 'custom user checks using custom_checks'), ('Base Functionalities', 'supports', 'Function'), ('Base Functionalities', 'supports', 'OpenAI JSON Mode'), ('Base Functionalities', 'exposes', 'llm variable'), ('Base Functionalities', 'exposes', 'Function')]\n",
    "\n",
    "g = nx.DiGraph()\n",
    "for s, p, o in triplets:\n",
    "    g.add_edge(s, o, label=p)\n",
    "pos = nx.spring_layout(g)\n",
    "fig, ax = plt.subplots()\n",
    "nx.draw(g, pos, ax=ax, with_labels=True, node_color='skyblue', node_size=2000, edge_color='k', linewidths=1, font_size=15)\n",
    "edge_labels = nx.get_edge_attributes(g, 'label')\n",
    "nx.draw_networkx_edge_labels(g, pos, edge_labels=edge_labels, ax=ax)\n",
    "plt.show()"
   ]
  },
  {
   "cell_type": "code",
   "execution_count": 84,
   "id": "d7e99343-3a4d-41fb-ad5c-2da065876e2f",
   "metadata": {
    "tags": []
   },
   "outputs": [],
   "source": [
    "code = '''import networkx as nx\n",
    "import matplotlib.pyplot as plt\n",
    "\n",
    "triplets = [('Base Functionalities', 'supports', 'int'), ('Base Functionalities', 'supports', 'float'), ('Base Functionalities', 'supports', 'str'), ('Base Functionalities', 'supports', 'dict'), ('Base Functionalities', 'supports', 'list'), ('Base Functionalities', 'supports', 'Dict[]'), ('Base Functionalities', 'supports', 'List[]'), ('Base Functionalities', 'supports', 'Enum[]'), ('Base Functionalities', 'supports', 'bool'), ('Base Functionalities', 'supports', 'type: ensure <restriction>'), ('Base Functionalities', 'supports', 'custom user checks using custom_checks'), ('Base Functionalities', 'supports', 'Function'), ('Base Functionalities', 'supports', 'OpenAI JSON Mode'), ('Base Functionalities', 'exposes', 'llm variable'), ('Base Functionalities', 'exposes', 'Function')]\n",
    "\n",
    "g = nx.DiGraph()\n",
    "for s, p, o in triplets:\n",
    "    g.add_edge(s, o, label=p)\n",
    "pos = nx.spring_layout(g)\n",
    "fig, ax = plt.subplots()\n",
    "nx.draw(g, pos, ax=ax, with_labels=True, node_color='skyblue', node_size=2000, edge_color='k', linewidths=1, font_size=15)\n",
    "edge_labels = nx.get_edge_attributes(g, 'label')\n",
    "nx.draw_networkx_edge_labels(g, pos, edge_labels=edge_labels, ax=ax)\n",
    "plt.show()'''"
   ]
  },
  {
   "cell_type": "code",
   "execution_count": 85,
   "id": "35742d76-ea10-4b3d-90aa-007e9071946f",
   "metadata": {
    "tags": []
   },
   "outputs": [],
   "source": [
    "# use strictjson to do error correction\n",
    "res3 = strict_json(system_prompt = f'''Given the Code, change it to fit user query\n",
    "Code: ```{code}```''',\n",
    "            user_prompt = 'Change node size to be smaller',\n",
    "            output_format = {'Corrected Code': 'Code in Python to fulfil user query'},\n",
    "                  model = 'gpt-4-turbo')"
   ]
  },
  {
   "cell_type": "code",
   "execution_count": 87,
   "id": "15928ebf-c998-43e0-9099-ca950c315c2f",
   "metadata": {
    "tags": []
   },
   "outputs": [
    {
     "data": {
      "image/png": "[encoded data removed]",
      "text/plain": [
       "<Figure size 640x480 with 1 Axes>"
      ]
     },
     "metadata": {},
     "output_type": "display_data"
    }
   ],
   "source": [
    "exec(res3['Corrected Code'])"
   ]
  },
  {
   "cell_type": "markdown",
   "id": "6d66d890-ee43-4e7d-bd64-59bfe1826fb8",
   "metadata": {},
   "source": [
    "# Multiple Output Types"
   ]
  },
  {
   "cell_type": "code",
   "execution_count": 100,
   "id": "22d5da06-6d59-4ae9-bb70-018d0a6fe93f",
   "metadata": {
    "tags": []
   },
   "outputs": [],
   "source": [
    "res = strict_json('You are an arbitrary output mapper that takes in user text and outputs it to the respective output fields',\n",
    "            'It is a bright and sunny day',\n",
    "            output_format = {'Adjectives Array': 'Array of adjectives, type: array',\n",
    "                            'Number of Adjectives': 'type: int',\n",
    "                            'Sentiment': 'Positive or Negative',\n",
    "                            'Sentiment2': 'type: Enum[\"P\", \"N\", \"O\"]',\n",
    "                            'Negative Sentiment': 'Is it negative, type: Enum[True, False]',\n",
    "                            'Repeat the sentence': 'sentence ,type: str',\n",
    "                            'Adjectives and their meaning Array': 'type: Array[Dict[\"Adjective\", \"Meaning\"]]'})"
   ]
  },
  {
   "cell_type": "code",
   "execution_count": 103,
   "id": "8788e03e-0167-4163-8390-6f0afdd4a932",
   "metadata": {
    "tags": []
   },
   "outputs": [
    {
     "data": {
      "text/plain": [
       "'bright'"
      ]
     },
     "execution_count": 103,
     "metadata": {},
     "output_type": "execute_result"
    }
   ],
   "source": [
    "res['Adjectives and their meaning Array'][0]['Adjective']"
   ]
  },
  {
   "cell_type": "code",
   "execution_count": 104,
   "id": "15532c59-1c83-4dc5-99ea-110264a64ea2",
   "metadata": {
    "tags": []
   },
   "outputs": [
    {
     "data": {
      "text/plain": [
       "'full of light'"
      ]
     },
     "execution_count": 104,
     "metadata": {},
     "output_type": "execute_result"
    }
   ],
   "source": [
    "res['Adjectives and their meaning Array'][0]['Meaning']"
   ]
  },
  {
   "cell_type": "markdown",
   "id": "230e22ea-c3be-4c0e-8434-3c68351c65dd",
   "metadata": {},
   "source": [
    "# Your own LLM (Important)"
   ]
  },
  {
   "cell_type": "code",
   "execution_count": 118,
   "id": "79c223c6-0f81-40f2-94de-50f621d513cb",
   "metadata": {
    "tags": []
   },
   "outputs": [],
   "source": [
    "def llm(system_prompt: str, user_prompt: str):\n",
    "    ''' Here, we use OpenAI for illustration, you can change it to your own LLM '''\n",
    "    # ensure your LLM imports are all within this function\n",
    "    from openai import OpenAI\n",
    "    \n",
    "    # take an image from a file - maybe do regex to get filename from system/user prompt\"\n",
    "    # system_prompt = '%%Filename: big.jpeg%%'\n",
    "    # Do processing to get the file, convert to tokens, pass into VLM\n",
    "    \n",
    "    # define your own LLM here\n",
    "    client = OpenAI()\n",
    "    response = client.chat.completions.create(\n",
    "        model='gpt-3.5-turbo',\n",
    "        temperature = 0,\n",
    "        messages=[\n",
    "            {\"role\": \"system\", \"content\": system_prompt},\n",
    "            {\"role\": \"user\", \"content\": user_prompt}\n",
    "        ]\n",
    "    )\n",
    "    return response.choices[0].message.content\n",
    "    # return \"{'Adjective Array': 'bright, hello'}\""
   ]
  },
  {
   "cell_type": "code",
   "execution_count": 106,
   "id": "fdb986e9-0468-4dcc-8af4-1492057f39da",
   "metadata": {
    "tags": []
   },
   "outputs": [],
   "source": [
    "res = strict_json(system_prompt = 'You are an arbitrary output mapper that takes in user text and outputs it to the respective output fields',\n",
    "            user_prompt = 'It is a bright and sunny day',\n",
    "            output_format = {'Adjectives Array': 'Array of adjectives, type: array',\n",
    "                            'Number of Adjectives': 'type: int',\n",
    "                            'Sentiment': 'Positive or Negative',\n",
    "                            'Sentiment2': 'type: Enum[\"P\", \"N\", \"O\"]',\n",
    "                            'Negative Sentiment': 'Is it negative, type: Enum[True, False]',\n",
    "                            'Repeat the sentence': 'sentence ,type: str',\n",
    "                            'Adjectives and their meaning Array': 'type: Array[Dict[\"Adjective\", \"Meaning\"]]'},\n",
    "                 llm = llm)"
   ]
  },
  {
   "cell_type": "code",
   "execution_count": 119,
   "id": "8e75891a-4bdc-4dc4-9c3a-e4df149d9ed7",
   "metadata": {
    "tags": []
   },
   "outputs": [],
   "source": [
    "res = strict_json(system_prompt = 'You are an arbitrary output mapper that takes in user text and outputs it to the respective output fields',\n",
    "            user_prompt = 'It is a bright and sunny day',\n",
    "            output_format = {'Adjective Array': 'array of adjectives, type: array'},\n",
    "                 llm = llm)"
   ]
  },
  {
   "cell_type": "code",
   "execution_count": 120,
   "id": "44c6b6ec-f62c-4283-b005-235c61b690ab",
   "metadata": {
    "tags": []
   },
   "outputs": [
    {
     "data": {
      "text/plain": [
       "{'Adjective Array': ['bright', 'sunny']}"
      ]
     },
     "execution_count": 120,
     "metadata": {},
     "output_type": "execute_result"
    }
   ],
   "source": [
    "res"
   ]
  },
  {
   "cell_type": "markdown",
   "id": "ae171b9d-6848-4e9a-b481-1c1e6252bc8f",
   "metadata": {},
   "source": [
    "# Chain of Thought\n",
    "- Problem -> Solution (typical)\n",
    "- Problem -> Substep 1 -> Substep 2 -> Solution (Chain of Thought)"
   ]
  },
  {
   "cell_type": "code",
   "execution_count": 168,
   "id": "5eb919ac-6727-49aa-a389-48f3df1cdcce",
   "metadata": {
    "tags": []
   },
   "outputs": [
    {
     "data": {
      "text/plain": [
       "{'Thoughts': \"Mary had 5 apples, gave 1 to John, so she has 4 left. John had 2 apples, received 1 from Mary, so he has 3 now. Total apples = Mary's apples + John's apples.\",\n",
       " 'Output': 7}"
      ]
     },
     "execution_count": 168,
     "metadata": {},
     "output_type": "execute_result"
    }
   ],
   "source": [
    "strict_json('Solve the Math problem',\n",
    "         'Mary has 5 apples. John has 2 apples. Mary gave John 1 apple. How many apples do they have in total?',\n",
    "            output_format = {'Thoughts': 'Think step by step',\n",
    "                        'Output': 'Number'})"
   ]
  },
  {
   "cell_type": "code",
   "execution_count": 122,
   "id": "9b93c8de-61d8-4d7e-9ab8-473376ecc53b",
   "metadata": {
    "tags": []
   },
   "outputs": [
    {
     "data": {
      "text/plain": [
       "{'Trip Plan': 'Day 1: Explore the historic sites of Rome including the Colosseum and Vatican City. Day 2: Visit the picturesque city of Florence and see the iconic Duomo and Uffizi Gallery. Day 3: Relax in the charming coastal town of Cinque Terre, known for its colorful houses and scenic views.'}"
      ]
     },
     "execution_count": 122,
     "metadata": {},
     "output_type": "execute_result"
    }
   ],
   "source": [
    "strict_json('Plan a 3-day trip to a country',\n",
    "            'Italy',\n",
    "            output_format = {'Trip Plan': 'Plan'})"
   ]
  },
  {
   "cell_type": "code",
   "execution_count": 129,
   "id": "d283f4e2-b131-4cf1-a292-a433cd8b1ae2",
   "metadata": {
    "tags": []
   },
   "outputs": [
    {
     "data": {
      "text/plain": [
       "{'Broad Trip Plan': 'Day 1 - Explore Rome, Day 2 - Visit Florence, Day 3 - Relax in Venice',\n",
       " 'Specific Trip Plan': \"Day 1: Morning - Visit Colosseum and Roman Forum, Afternoon - Explore Vatican City, Evening - Stroll around Trevi Fountain. Day 2: Morning - Visit Uffizi Gallery, Afternoon - Explore Ponte Vecchio, Evening - Enjoy Tuscan cuisine. Day 3: Morning - Visit St. Mark's Basilica, Afternoon - Gondola ride in Grand Canal, Evening - Explore Rialto Bridge.\",\n",
       " 'Transport Arrangements': 'Day 1: Metro in Rome, Day 2: Train from Rome to Florence, Day 3: Train from Florence to Venice',\n",
       " 'Accomodation Arrangements': 'Day 1: Hotel in Rome, Day 2: Hotel in Florence, Day 3: Hotel in Venice'}"
      ]
     },
     "execution_count": 129,
     "metadata": {},
     "output_type": "execute_result"
    }
   ],
   "source": [
    "strict_json('Plan a 3-day trip to a country',\n",
    "            'Italy',\n",
    "            output_format = {'Broad Trip Plan': 'Broad Overall Plan for each day in the format <Day> - <Plan>, separated by comma',\n",
    "                            'Specific Trip Plan': 'Plan for each day sticking to Overall Plan, including morning, afternoon, evening',\n",
    "                            'Transport Arrangements': 'Transport arrangements for each day',\n",
    "                            'Accomodation Arrangements': 'Accomodation arrangements for each day'})"
   ]
  },
  {
   "cell_type": "markdown",
   "id": "446bc31f-94bd-42a1-8d69-4878facc9b9e",
   "metadata": {},
   "source": [
    "# TaskGen Teaser"
   ]
  },
  {
   "cell_type": "code",
   "execution_count": 132,
   "id": "6f0d5397-cdf5-46dc-a89c-16bc8900e44d",
   "metadata": {
    "tags": []
   },
   "outputs": [],
   "source": [
    "agent = Agent('Trip Planner', 'Plan a trip to a country, doing up a broad trip plan, specific trip plan, transport arrangements, accomodation arrangements')"
   ]
  },
  {
   "cell_type": "code",
   "execution_count": 133,
   "id": "1379f3c3-546d-4f73-99cf-9f3f2747ab81",
   "metadata": {
    "tags": []
   },
   "outputs": [
    {
     "name": "stdout",
     "output_type": "stream",
     "text": [
      "Subtask identified: Research popular destinations in Italy\n",
      "Getting LLM to perform the following task: Research popular destinations in Italy\n",
      "> Some popular destinations in Italy include Rome, Venice, Florence, Milan, Amalfi Coast, and Tuscany.\n",
      "\n",
      "Subtask identified: Create a detailed itinerary for each day of the trip\n",
      "Getting LLM to perform the following task: Create a detailed itinerary for each day of the trip\n",
      "> Day 1: Explore the historic sites of Rome including the Colosseum, Roman Forum, and Pantheon. Enjoy authentic Italian cuisine for dinner. Day 2: Take a gondola ride in Venice, visit St. Mark's Square, and explore the Grand Canal. Day 3: Visit the Uffizi Gallery in Florence, walk around the Ponte Vecchio, and try some gelato at a local gelateria.\n",
      "\n",
      "Subtask identified: Research transportation options within Italy\n",
      "Getting LLM to perform the following task: Research transportation options within Italy\n",
      "> For transportation within Italy, you can choose between trains, buses, and domestic flights. The train system is efficient and connects major cities like Rome, Venice, and Florence. Buses are a cost-effective option for shorter distances, while domestic flights are ideal for longer distances such as Milan to Sicily.\n",
      "\n",
      "Subtask identified: Research accommodation options in Italy\n",
      "Getting LLM to perform the following task: Research accommodation options in Italy\n",
      "> Research accommodation options in Italy: Some popular accommodation options in Italy include luxury hotels in Rome, boutique hotels in Venice, charming bed and breakfasts in Florence, and agriturismos in Tuscany. Each city offers a variety of accommodations to suit different preferences and budgets.\n",
      "\n",
      "Subtask identified: Finalize the trip plan\n",
      "Getting LLM to perform the following task: Finalize the trip plan\n",
      "> For the 3-day trip to Italy, the broad trip plan includes visiting Rome, Venice, and Florence. Specific trip plan: Day 1 - Explore historic sites in Rome. Day 2 - Enjoy a gondola ride in Venice. Day 3 - Visit the Uffizi Gallery in Florence. Transport arrangements: Utilize trains between cities. Accommodation arrangements: Stay in luxury hotels in Rome, boutique hotels in Venice, and charming bed and breakfasts in Florence.\n",
      "\n",
      "Task completed successfully!\n",
      "\n"
     ]
    },
    {
     "data": {
      "text/plain": [
       "['Some popular destinations in Italy include Rome, Venice, Florence, Milan, Amalfi Coast, and Tuscany.',\n",
       " \"Day 1: Explore the historic sites of Rome including the Colosseum, Roman Forum, and Pantheon. Enjoy authentic Italian cuisine for dinner. Day 2: Take a gondola ride in Venice, visit St. Mark's Square, and explore the Grand Canal. Day 3: Visit the Uffizi Gallery in Florence, walk around the Ponte Vecchio, and try some gelato at a local gelateria.\",\n",
       " 'For transportation within Italy, you can choose between trains, buses, and domestic flights. The train system is efficient and connects major cities like Rome, Venice, and Florence. Buses are a cost-effective option for shorter distances, while domestic flights are ideal for longer distances such as Milan to Sicily.',\n",
       " 'Research accommodation options in Italy: Some popular accommodation options in Italy include luxury hotels in Rome, boutique hotels in Venice, charming bed and breakfasts in Florence, and agriturismos in Tuscany. Each city offers a variety of accommodations to suit different preferences and budgets.',\n",
       " 'For the 3-day trip to Italy, the broad trip plan includes visiting Rome, Venice, and Florence. Specific trip plan: Day 1 - Explore historic sites in Rome. Day 2 - Enjoy a gondola ride in Venice. Day 3 - Visit the Uffizi Gallery in Florence. Transport arrangements: Utilize trains between cities. Accommodation arrangements: Stay in luxury hotels in Rome, boutique hotels in Venice, and charming bed and breakfasts in Florence.']"
      ]
     },
     "execution_count": 133,
     "metadata": {},
     "output_type": "execute_result"
    }
   ],
   "source": [
    "agent.run('Plan a 3-day trip to Italy. Do not book anything.')"
   ]
  },
  {
   "cell_type": "markdown",
   "id": "982bef9e-2197-4469-80e7-a93d861a89de",
   "metadata": {},
   "source": [
    "# Paragraph Summary"
   ]
  },
  {
   "cell_type": "code",
   "execution_count": 235,
   "id": "5861acd8-b867-42ba-840f-9a2efc8578de",
   "metadata": {
    "tags": []
   },
   "outputs": [],
   "source": [
    "paragraph = ['' for _ in range(2)]"
   ]
  },
  {
   "cell_type": "code",
   "execution_count": 236,
   "id": "e8356021-988b-4eee-b9d5-c8b3a4e84328",
   "metadata": {
    "tags": []
   },
   "outputs": [],
   "source": [
    "paragraph[0] = '''The Inaccessible Island rail (Laterallus rogersi) is a bird found only on Inaccessible Island in the South Atlantic Tristan archipelago. This rail, the smallest extant flightless bird, was described by physician Percy Lowe in 1923. The adult has brown plumage, a black bill, black feet, and red eyes. It occupies most habitats on the island, from the beaches to the central plateau, feeding on a variety of small invertebrates and some plant matter. Pairs are territorial and monogamous; both parents incubate the eggs and raise the chicks. The rail's adaptations to living on a tiny island at high densities include a low basal metabolic rate, small clutch sizes, and flightlessness. Unlike many other oceanic islands, Inaccessible Island has remained free from introduced predators, allowing this species to flourish while many other flightless rails have gone extinct. The species is nevertheless considered vulnerable, due to the danger of a single catastrophe wiping out the small, isolated population. '''"
   ]
  },
  {
   "cell_type": "code",
   "execution_count": 237,
   "id": "35edb2bf-6ace-4132-844f-40be877f1da7",
   "metadata": {
    "tags": []
   },
   "outputs": [],
   "source": [
    "paragraph[1] = '''Acting prime minister of Haiti Ariel Henry (pictured) resigns, and is replaced by Michel Patrick Boisvert while the Transitional Presidential Council is sworn in.\n",
    "The Ownership, Unity and Responsibility Party, led by Prime Minister Manasseh Sogavare, wins the most seats in the Solomon Islands general election but falls short of a majority.\n",
    "NASA announces that the Voyager 1 space probe is sending readable data for the first time in five months.\n",
    "The HDZ-led coalition wins the most seats in the Croatian parliamentary election but falls short of a majority.\n",
    "Ich­thy­o­titan, the largest known marine reptile, is formally described.'''"
   ]
  },
  {
   "cell_type": "code",
   "execution_count": 143,
   "id": "5307f922-9c2b-4736-8519-f213a28d2a06",
   "metadata": {
    "tags": []
   },
   "outputs": [
    {
     "name": "stdout",
     "output_type": "stream",
     "text": [
      "{'Bullet Point Array': ['Inaccessible Island rail found only on Inaccessible Island in Tristan archipelago.', 'Described by physician Percy Lowe in 1923, smallest flightless bird.', 'Adult has brown plumage, black bill, feet, and red eyes.', 'Occupies various habitats, feeds on invertebrates and some plant matter.', 'Pairs are territorial and monogamous, share incubation and chick-raising.', 'Adaptations include low metabolic rate, small clutch sizes, flightlessness.', 'Inaccessible Island lacks introduced predators, aiding species survival.', 'Considered vulnerable due to risk of catastrophe wiping out population.']}\n",
      "{'Bullet Point Array': ['Ariel Henry resigns, replaced by Michel Patrick Boisvert in Haiti.', 'Ownership, Unity and Responsibility Party wins most seats in Solomon Islands.', 'Voyager 1 space probe sends readable data after five months.', 'HDZ-led coalition wins most seats in Croatian parliamentary election.', 'Ichthyotitan, largest marine reptile, is formally described.']}\n"
     ]
    }
   ],
   "source": [
    "for para in paragraph:\n",
    "    res = strict_json('Take the paragraph and summarise it in the following json format',\n",
    "        para,\n",
    "        output_format = {'Bullet Point Array': 'Summarise each sentence as a bullet point of 10 words maximum each, type: array'})\n",
    "    print(res)"
   ]
  },
  {
   "cell_type": "code",
   "execution_count": 137,
   "id": "a48d70e6-19ca-436a-b369-50fc0d40fbe8",
   "metadata": {
    "tags": []
   },
   "outputs": [
    {
     "name": "stdout",
     "output_type": "stream",
     "text": [
      "The Inaccessible Island rail (Laterallus rogersi) is a bird found only on Inaccessible Island in the South Atlantic Tristan archipelago. This rail, the smallest extant flightless bird, was described by physician Percy Lowe in 1923. The adult has brown plumage, a black bill, black feet, and red eyes. It occupies most habitats on the island, from the beaches to the central plateau, feeding on a variety of small invertebrates and some plant matter. Pairs are territorial and monogamous; both parents incubate the eggs and raise the chicks. The rail's adaptations to living on a tiny island at high densities include a low basal metabolic rate, small clutch sizes, and flightlessness. Unlike many other oceanic islands, Inaccessible Island has remained free from introduced predators, allowing this species to flourish while many other flightless rails have gone extinct. The species is nevertheless considered vulnerable, due to the danger of a single catastrophe wiping out the small, isolated population. \n"
     ]
    }
   ],
   "source": [
    "print(paragraph)"
   ]
  },
  {
   "cell_type": "markdown",
   "id": "d066a79c-bb59-4c88-acf8-ad31c013130d",
   "metadata": {},
   "source": [
    "# Reflection"
   ]
  },
  {
   "cell_type": "code",
   "execution_count": 160,
   "id": "2aff9597-26cf-4c1b-8969-b4df8da8d043",
   "metadata": {
    "tags": []
   },
   "outputs": [
    {
     "data": {
      "text/plain": [
       "{'5 words that rhyme with cool': 'pool, rule, drool, school, fool',\n",
       " 'Four sentence poem': \"By the pool, feeling cool. Follow the rule, don't drool. Learning in school, that's the tool. Acting like a fool.\",\n",
       " 'Reflection': 'There are four sentences (ending with .)',\n",
       " 'Updated poem with four sentences': \"By the pool, feeling cool. Follow the rule, don't drool. Learning in school, that's the tool. Acting like a fool.\"}"
      ]
     },
     "execution_count": 160,
     "metadata": {},
     "output_type": "execute_result"
    }
   ],
   "source": [
    "strict_json('Create a four-sentence poem with 5 words that rhyme with cool. Each sentence should end with a .',\n",
    " '',\n",
    "        output_format = {'5 words that rhyme with cool': 'words',\n",
    "                        'Four sentence poem': 'Poem',\n",
    "                        'Reflection': 'Count the number of sentences (ending with .) and reflect on whether it is four sentences',\n",
    "                        'Updated poem with four sentences': 'Poem'})"
   ]
  },
  {
   "cell_type": "code",
   "execution_count": 166,
   "id": "c4a6aa83-caac-4f76-93f8-8c05319cad0a",
   "metadata": {
    "tags": []
   },
   "outputs": [
    {
     "data": {
      "text/plain": [
       "{'Output': 6, 'Reflection': '5 - 1 + 2 + 1 = 7', 'Corrected Output': 7}"
      ]
     },
     "execution_count": 166,
     "metadata": {},
     "output_type": "execute_result"
    }
   ],
   "source": [
    "strict_json('Solve the Math problem',\n",
    "         'Mary has 5 apples. John has 2 apples. Mary gave John 1 apple. How many apples do they have in total?',\n",
    "            output_format = {'Output': 'Number',\n",
    "                        'Reflection': 'Do an equation for Mary and John and evaluate the number of apples at the end',\n",
    "                        'Corrected Output': 'Number'})"
   ]
  },
  {
   "cell_type": "markdown",
   "id": "54b1a6fd-60eb-4a7f-b8e2-14921643535c",
   "metadata": {},
   "source": [
    "# Evaluate with code for greater reliability"
   ]
  },
  {
   "cell_type": "code",
   "execution_count": 180,
   "id": "a56a92bc-4602-4f29-8fd7-8b95063e4e90",
   "metadata": {
    "tags": []
   },
   "outputs": [
    {
     "data": {
      "text/plain": [
       "{'Thoughts': 'Calculate the total number of apples Mary has. Then calculate the total number of apples John has after Mary gives him some apples. Finally, add the total apples Mary has and the total apples John has to find the overall total number of apples.',\n",
       " 'Output': 12197835}"
      ]
     },
     "execution_count": 180,
     "metadata": {},
     "output_type": "execute_result"
    }
   ],
   "source": [
    "strict_json('Solve the Math problem',\n",
    "         'Mary has 5223*2345 apples. John has 2 apples. Mary gave John 1112*342 apples. How many apples do they have in total?',\n",
    "            output_format = {'Thoughts': 'Think step by step how to solve the problem',\n",
    "                             'Output': 'Number'})"
   ]
  },
  {
   "cell_type": "code",
   "execution_count": 197,
   "id": "cdfcb1d7-09f4-4ad3-be07-2b67eb39dbea",
   "metadata": {
    "tags": []
   },
   "outputs": [],
   "source": [
    "res = strict_json('Solve the Math problem by writing a program',\n",
    "         'Mary has 5223*2345 apples. John has 2 apples. Mary gave John 1112*342 apples. How many apples do they have in total?',\n",
    "            output_format = {'Thoughts': 'Think step by step how to solve the problem',\n",
    "                             'Reflection': 'Reflect on equation for each person after the transfer',\n",
    "                             'Updated Thoughts': 'Think step by step how to solve the problem',\n",
    "                             'Code': 'Python function named answer to solve the problem'})"
   ]
  },
  {
   "cell_type": "code",
   "execution_count": 199,
   "id": "50c8d3a5-ea46-4bec-a927-0fe36fad3ed5",
   "metadata": {
    "tags": []
   },
   "outputs": [
    {
     "data": {
      "text/plain": [
       "{'Thoughts': 'Calculate the total number of apples Mary has. Then calculate the total number of apples John has after receiving apples from Mary. Finally, add the total apples of Mary and John.',\n",
       " 'Reflection': 'Mary has 5223*2345 - 1112*342 apples after giving some to John. John has 2 + 1112*342 apples after receiving from Mary.',\n",
       " 'Updated Thoughts': 'Calculate the total apples for Mary and John separately and then add them together to get the final total.',\n",
       " 'Code': 'def answer():\\n    mary_total = 5223*2345 - 1112*342\\n    john_total = 2 + 1112*342\\n    total = mary_total + john_total\\n    return total'}"
      ]
     },
     "execution_count": 199,
     "metadata": {},
     "output_type": "execute_result"
    }
   ],
   "source": [
    "res"
   ]
  },
  {
   "cell_type": "code",
   "execution_count": 200,
   "id": "03a8a443-39c0-46c4-8e42-914bdec772e2",
   "metadata": {
    "tags": []
   },
   "outputs": [
    {
     "data": {
      "text/plain": [
       "'def answer():\\n    mary_total = 5223*2345 - 1112*342\\n    john_total = 2 + 1112*342\\n    total = mary_total + john_total\\n    return total'"
      ]
     },
     "execution_count": 200,
     "metadata": {},
     "output_type": "execute_result"
    }
   ],
   "source": [
    "res['Code']"
   ]
  },
  {
   "cell_type": "code",
   "execution_count": 201,
   "id": "5e350d37-6304-47c0-8faf-d867a3b13360",
   "metadata": {
    "tags": []
   },
   "outputs": [],
   "source": [
    "exec(res['Code'])"
   ]
  },
  {
   "cell_type": "code",
   "execution_count": 202,
   "id": "ab2a5dcf-2840-4f36-85e3-fdcff43a2a99",
   "metadata": {
    "tags": []
   },
   "outputs": [
    {
     "data": {
      "text/plain": [
       "12247937"
      ]
     },
     "execution_count": 202,
     "metadata": {},
     "output_type": "execute_result"
    }
   ],
   "source": [
    "answer()"
   ]
  },
  {
   "cell_type": "markdown",
   "id": "08f9812f-2758-4a4d-b902-b2a3440e838e",
   "metadata": {
    "tags": []
   },
   "source": [
    "# Evaluate with rule-based filters for greater reliability"
   ]
  },
  {
   "cell_type": "code",
   "execution_count": 207,
   "id": "a98f8867-fa3e-4a01-96a2-f112633652d1",
   "metadata": {
    "tags": []
   },
   "outputs": [
    {
     "data": {
      "text/plain": [
       "{'Price lower than': 50, 'Price greater than': -1, 'Item': 'ice-cream'}"
      ]
     },
     "execution_count": 207,
     "metadata": {},
     "output_type": "execute_result"
    }
   ],
   "source": [
    "strict_json('Extract out the filter fields according to user query. If filter does not exist, output -1 or NA',\n",
    "            'Get me an ice-cream that costs below 50 dollars',\n",
    "            output_format = {'Price lower than': 'type: int',\n",
    "                             'Price greater than': 'type: int',\n",
    "                             'Item': 'type: str'})"
   ]
  },
  {
   "cell_type": "markdown",
   "id": "bf31a148-28a8-451a-93ad-6dbb7e7f2e31",
   "metadata": {},
   "source": [
    "# Multiple Chains\n",
    "- Can execute conditional flows\n",
    "- Can break down a complex problem into easier sub-problems"
   ]
  },
  {
   "cell_type": "code",
   "execution_count": 221,
   "id": "0461cd52-1a91-4b6f-a94c-c337d9165f45",
   "metadata": {
    "tags": []
   },
   "outputs": [],
   "source": [
    "res = strict_json('Generate me the Name of Card and type of a Yugioh Playing Card',\n",
    "            '',\n",
    "            output_format = {'Name of Card': 'type: str', 'Type': 'type: Enum[\"Trap\", \"Magic\", \"Monster\"]'})"
   ]
  },
  {
   "cell_type": "code",
   "execution_count": 222,
   "id": "8f5b9bf1-9ad3-49a4-b64e-d38e31e69fa0",
   "metadata": {
    "tags": []
   },
   "outputs": [
    {
     "data": {
      "text/plain": [
       "{'Name of Card': 'Yami', 'Type': 'Magic'}"
      ]
     },
     "execution_count": 222,
     "metadata": {},
     "output_type": "execute_result"
    }
   ],
   "source": [
    "res"
   ]
  },
  {
   "cell_type": "code",
   "execution_count": 228,
   "id": "fb4f6c06-4743-4ba3-b7e1-92abffdf31a6",
   "metadata": {
    "tags": []
   },
   "outputs": [],
   "source": [
    "res['Type'] = 'Monster'"
   ]
  },
  {
   "cell_type": "code",
   "execution_count": 229,
   "id": "a6011dce-1b35-4737-9790-b1bb21fa565d",
   "metadata": {
    "tags": []
   },
   "outputs": [
    {
     "name": "stdout",
     "output_type": "stream",
     "text": [
      "An exception occurred: \"50-word description\" not in json string output. You must use \"###{key}###\" to enclose the {key}.\n",
      "Current invalid json format: {'Dark field surrounds monsters, boosting dark types and weakening light types. Beware of its mystical power.': '<50 words, type: str>', 'Attack': 1900, 'Defence': 2100}\n"
     ]
    }
   ],
   "source": [
    "if res['Type'] == 'Monster':\n",
    "    res2 = strict_json('Given the name and type of a Yugioh Playing Card, generate me a description and the attack/defence of the card',\n",
    "                   res,\n",
    "                   output_format = {'50-word description': '50 words, type: str', 'Attack': 'type: int', 'Defence': 'type: int'})\n",
    "elif res['Type'] == 'Magic':\n",
    "    res2 = strict_json('Given the name and type of a Yugioh Playing Card, generate me a 100-word description of the magic',\n",
    "                   res,\n",
    "                   output_format = {'100-word description': '100 words'})"
   ]
  },
  {
   "cell_type": "code",
   "execution_count": 230,
   "id": "86ac4622-1282-4b57-863d-54233ce0b6d1",
   "metadata": {
    "tags": []
   },
   "outputs": [
    {
     "data": {
      "text/plain": [
       "{'50-word description': 'Yami shrouds the field in darkness, empowering dark monsters while weakening light ones. Its mysterious energy can turn the tide of battle.',\n",
       " 'Attack': 2000,\n",
       " 'Defence': 2300}"
      ]
     },
     "execution_count": 230,
     "metadata": {},
     "output_type": "execute_result"
    }
   ],
   "source": [
    "res2"
   ]
  }
 ],
 "metadata": {
  "kernelspec": {
   "display_name": "Python 3 (ipykernel)",
   "language": "python",
   "name": "python3"
  },
  "language_info": {
   "codemirror_mode": {
    "name": "ipython",
    "version": 3
   },
   "file_extension": ".py",
   "mimetype": "text/x-python",
   "name": "python",
   "nbconvert_exporter": "python",
   "pygments_lexer": "ipython3",
   "version": "3.11.3"
  }
 },
 "nbformat": 4,
 "nbformat_minor": 5
}
